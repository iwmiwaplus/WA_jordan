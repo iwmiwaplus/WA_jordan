{
 "cells": [
  {
   "cell_type": "code",
   "execution_count": 2,
   "id": "134ac76b-5c1e-4c27-b409-a4c610a81827",
   "metadata": {},
   "outputs": [],
   "source": [
    "import os\n",
    "import netCDF4 as nc\n",
    "import numpy as np\n",
    "import rasterio\n",
    "from rasterio.transform import from_origin\n",
    "from datetime import datetime\n",
    "\n",
    "fldrs = ['03_07','07_11','11_15','15_19','19_21']\n",
    "names = [2003, 2004, 2005, 2006, 2007, 2007, 2008, 2009, 2010, 2011, 2011, 2012, 2013, 2014, 2015, 2015, 2016, 2017, 2018, 2019, 2019, 2020, 2021]\n",
    "skips = [5, 10, 15, 20]\n",
    "# variable = 'Rainfall_ET_M'\n",
    "# print(names)\n",
    "netcdfs = ['AFR_ETa_SSEBop_yearly', 'AFR_P_CHIRPS_yearly', 'sro_yearly' ]\n",
    "\n",
    "for netcdf in netcdfs:\n",
    "        i = -1\n",
    "\n",
    "        for fldr in fldrs:\n",
    "\n",
    "\n",
    "            # Replace with your input NetCDF file path\n",
    "            nc_file_path = \"/efs/CWA/netcdf_files_%s_/%s.nc\"%(fldr, netcdf)\n",
    "\n",
    "            # Open the NetCDF file for reading\n",
    "            nc_dataset = nc.Dataset(nc_file_path, 'r')\n",
    "\n",
    "            variable = list(nc_dataset.variables.keys())[-1]\n",
    "\n",
    "            # Replace with the output directory where you want to save the GeoTIFF files\n",
    "            output_dir = \"/home/iwmi-wa/tmp_1tb/TIFF/%s/\"%(variable)\n",
    "\n",
    "            # Create the output directory if it doesn't exist\n",
    "            os.makedirs(output_dir, exist_ok=True)\n",
    "\n",
    "            # Loop through each band and convert it to a GeoTIFF\n",
    "            for band_index in range(len(nc_dataset.variables['time'])):\n",
    "\n",
    "                i = i + 1\n",
    "                if i in skips: continue\n",
    "\n",
    "                band_data = nc_dataset.variables[variable][band_index]  # Using the 'Rainfall_ET_M' variable\n",
    "                year = int(nc_dataset.variables['time'][band_index])  # Extracting the year from the 'time' variable\n",
    "\n",
    "                output_tiff_name = os.path.join(output_dir, f\"{variable}_{names[i]}.01.01.tif\")\n",
    "\n",
    "                # Define a transform for EPSG:4326\n",
    "                transform = from_origin(\n",
    "                    nc_dataset.variables['longitude'][0],\n",
    "                    nc_dataset.variables['latitude'][0],\n",
    "                    nc_dataset.variables['longitude'][1] - nc_dataset.variables['longitude'][0],\n",
    "                    - nc_dataset.variables['latitude'][1] + nc_dataset.variables['latitude'][0]\n",
    "                )\n",
    "\n",
    "\n",
    "                # Specify compression and other options\n",
    "                profile = {\n",
    "                    'driver': 'GTiff',\n",
    "                    'height': band_data.shape[0],\n",
    "                    'width': band_data.shape[1],\n",
    "                    'count': 1,\n",
    "                    'dtype': str(band_data.dtype),\n",
    "                    'crs': 'EPSG:4326',  # Common CRS for WGS 84\n",
    "                    'transform': transform,\n",
    "                    'compress': 'LZW',  # Change to your desired compression method (e.g., 'LZW', 'DEFLATE', 'JPEG', etc.)\n",
    "                }\n",
    "\n",
    "                # Write the band to a GeoTIFF file with compression\n",
    "                with rasterio.open(output_tiff_name, 'w', **profile) as dst:\n",
    "                    dst.write(band_data, 1)\n",
    "\n",
    "            # Close the NetCDF file\n",
    "            nc_dataset.close()\n"
   ]
  },
  {
   "cell_type": "code",
   "execution_count": 11,
   "id": "413eebb2-cab5-485a-a104-03b0fa67dbf6",
   "metadata": {},
   "outputs": [
    {
     "name": "stdout",
     "output_type": "stream",
     "text": [
      "Rainfall_ET_M\n"
     ]
    }
   ],
   "source": [
    "print(list(nc_dataset.variables.keys())[-1])"
   ]
  },
  {
   "cell_type": "code",
   "execution_count": 8,
   "id": "a7ceb21f-e307-40d3-8282-9b74b7763937",
   "metadata": {},
   "outputs": [
    {
     "name": "stdout",
     "output_type": "stream",
     "text": [
      "Variable: time\n",
      "  Attribute: units = days since 2003-12-31 00:00:00\n",
      "  Attribute: calendar = proleptic_gregorian\n",
      "Variable: latitude\n",
      "  Attribute: _FillValue = -9999.0\n",
      "Variable: longitude\n",
      "  Attribute: _FillValue = -9999.0\n",
      "Variable: Rainfall_ET_M\n",
      "  Attribute: _FillValue = nan\n"
     ]
    },
    {
     "name": "stderr",
     "output_type": "stream",
     "text": [
      "/home/iwmi-wa/anaconda3/envs/cwa_env/lib/python3.7/site-packages/ipykernel_launcher.py:5: DeprecationWarning: tostring() is deprecated. Use tobytes() instead.\n",
      "  \"\"\"\n"
     ]
    }
   ],
   "source": [
    "# List available variable names and their attributes in the NetCDF file\n",
    "for var_name, var in nc_dataset.variables.items():\n",
    "    print(f\"Variable: {var_name}\")\n",
    "    for attr_name in var.ncattrs():\n",
    "        print(f\"  Attribute: {attr_name} = {var.getncattr(attr_name)}\")\n"
   ]
  },
  {
   "cell_type": "code",
   "execution_count": 3,
   "id": "800f05cd-98d1-4e79-9442-299871e1c6a7",
   "metadata": {},
   "outputs": [
    {
     "data": {
      "text/plain": [
       "[1, 2, 3, 4, 5, 6, 7, 8, 9, 10, 11, 12]"
      ]
     },
     "execution_count": 3,
     "metadata": {},
     "output_type": "execute_result"
    }
   ],
   "source": [
    "[*range(1,13)]"
   ]
  },
  {
   "cell_type": "code",
   "execution_count": 1,
   "id": "2e5fe906-c20c-4132-b45e-cb4f3579bdec",
   "metadata": {},
   "outputs": [
    {
     "name": "stdout",
     "output_type": "stream",
     "text": [
      "0 0 0 /home/iwmi-wa/tmp_1tb/Monthly_tifs_/Incremental_ET_M/Incremental_ET_M_2003.01.01.tif\n",
      "1 1 0 /home/iwmi-wa/tmp_1tb/Monthly_tifs_/Incremental_ET_M/Incremental_ET_M_2003.02.01.tif\n",
      "2 2 0 /home/iwmi-wa/tmp_1tb/Monthly_tifs_/Incremental_ET_M/Incremental_ET_M_2003.03.01.tif\n",
      "3 3 0 /home/iwmi-wa/tmp_1tb/Monthly_tifs_/Incremental_ET_M/Incremental_ET_M_2003.04.01.tif\n",
      "4 4 0 /home/iwmi-wa/tmp_1tb/Monthly_tifs_/Incremental_ET_M/Incremental_ET_M_2003.05.01.tif\n",
      "5 5 0 /home/iwmi-wa/tmp_1tb/Monthly_tifs_/Incremental_ET_M/Incremental_ET_M_2003.06.01.tif\n",
      "6 6 0 /home/iwmi-wa/tmp_1tb/Monthly_tifs_/Incremental_ET_M/Incremental_ET_M_2003.07.01.tif\n",
      "7 7 0 /home/iwmi-wa/tmp_1tb/Monthly_tifs_/Incremental_ET_M/Incremental_ET_M_2003.08.01.tif\n",
      "8 8 0 /home/iwmi-wa/tmp_1tb/Monthly_tifs_/Incremental_ET_M/Incremental_ET_M_2003.09.01.tif\n",
      "9 9 0 /home/iwmi-wa/tmp_1tb/Monthly_tifs_/Incremental_ET_M/Incremental_ET_M_2003.10.01.tif\n",
      "10 10 0 /home/iwmi-wa/tmp_1tb/Monthly_tifs_/Incremental_ET_M/Incremental_ET_M_2003.11.01.tif\n",
      "11 -1 0 /home/iwmi-wa/tmp_1tb/Monthly_tifs_/Incremental_ET_M/Incremental_ET_M_2003.12.01.tif\n",
      "12 0 1 /home/iwmi-wa/tmp_1tb/Monthly_tifs_/Incremental_ET_M/Incremental_ET_M_2004.01.01.tif\n",
      "13 1 1 /home/iwmi-wa/tmp_1tb/Monthly_tifs_/Incremental_ET_M/Incremental_ET_M_2004.02.01.tif\n",
      "14 2 1 /home/iwmi-wa/tmp_1tb/Monthly_tifs_/Incremental_ET_M/Incremental_ET_M_2004.03.01.tif\n",
      "15 3 1 /home/iwmi-wa/tmp_1tb/Monthly_tifs_/Incremental_ET_M/Incremental_ET_M_2004.04.01.tif\n",
      "16 4 1 /home/iwmi-wa/tmp_1tb/Monthly_tifs_/Incremental_ET_M/Incremental_ET_M_2004.05.01.tif\n",
      "17 5 1 /home/iwmi-wa/tmp_1tb/Monthly_tifs_/Incremental_ET_M/Incremental_ET_M_2004.06.01.tif\n",
      "18 6 1 /home/iwmi-wa/tmp_1tb/Monthly_tifs_/Incremental_ET_M/Incremental_ET_M_2004.07.01.tif\n",
      "19 7 1 /home/iwmi-wa/tmp_1tb/Monthly_tifs_/Incremental_ET_M/Incremental_ET_M_2004.08.01.tif\n",
      "20 8 1 /home/iwmi-wa/tmp_1tb/Monthly_tifs_/Incremental_ET_M/Incremental_ET_M_2004.09.01.tif\n",
      "21 9 1 /home/iwmi-wa/tmp_1tb/Monthly_tifs_/Incremental_ET_M/Incremental_ET_M_2004.10.01.tif\n",
      "22 10 1 /home/iwmi-wa/tmp_1tb/Monthly_tifs_/Incremental_ET_M/Incremental_ET_M_2004.11.01.tif\n",
      "23 -1 1 /home/iwmi-wa/tmp_1tb/Monthly_tifs_/Incremental_ET_M/Incremental_ET_M_2004.12.01.tif\n",
      "24 0 2 /home/iwmi-wa/tmp_1tb/Monthly_tifs_/Incremental_ET_M/Incremental_ET_M_2005.01.01.tif\n",
      "25 1 2 /home/iwmi-wa/tmp_1tb/Monthly_tifs_/Incremental_ET_M/Incremental_ET_M_2005.02.01.tif\n",
      "26 2 2 /home/iwmi-wa/tmp_1tb/Monthly_tifs_/Incremental_ET_M/Incremental_ET_M_2005.03.01.tif\n",
      "27 3 2 /home/iwmi-wa/tmp_1tb/Monthly_tifs_/Incremental_ET_M/Incremental_ET_M_2005.04.01.tif\n",
      "28 4 2 /home/iwmi-wa/tmp_1tb/Monthly_tifs_/Incremental_ET_M/Incremental_ET_M_2005.05.01.tif\n",
      "29 5 2 /home/iwmi-wa/tmp_1tb/Monthly_tifs_/Incremental_ET_M/Incremental_ET_M_2005.06.01.tif\n",
      "30 6 2 /home/iwmi-wa/tmp_1tb/Monthly_tifs_/Incremental_ET_M/Incremental_ET_M_2005.07.01.tif\n",
      "31 7 2 /home/iwmi-wa/tmp_1tb/Monthly_tifs_/Incremental_ET_M/Incremental_ET_M_2005.08.01.tif\n",
      "32 8 2 /home/iwmi-wa/tmp_1tb/Monthly_tifs_/Incremental_ET_M/Incremental_ET_M_2005.09.01.tif\n",
      "33 9 2 /home/iwmi-wa/tmp_1tb/Monthly_tifs_/Incremental_ET_M/Incremental_ET_M_2005.10.01.tif\n",
      "34 10 2 /home/iwmi-wa/tmp_1tb/Monthly_tifs_/Incremental_ET_M/Incremental_ET_M_2005.11.01.tif\n",
      "35 -1 2 /home/iwmi-wa/tmp_1tb/Monthly_tifs_/Incremental_ET_M/Incremental_ET_M_2005.12.01.tif\n",
      "36 0 3 /home/iwmi-wa/tmp_1tb/Monthly_tifs_/Incremental_ET_M/Incremental_ET_M_2006.01.01.tif\n",
      "37 1 3 /home/iwmi-wa/tmp_1tb/Monthly_tifs_/Incremental_ET_M/Incremental_ET_M_2006.02.01.tif\n",
      "38 2 3 /home/iwmi-wa/tmp_1tb/Monthly_tifs_/Incremental_ET_M/Incremental_ET_M_2006.03.01.tif\n",
      "39 3 3 /home/iwmi-wa/tmp_1tb/Monthly_tifs_/Incremental_ET_M/Incremental_ET_M_2006.04.01.tif\n",
      "40 4 3 /home/iwmi-wa/tmp_1tb/Monthly_tifs_/Incremental_ET_M/Incremental_ET_M_2006.05.01.tif\n",
      "41 5 3 /home/iwmi-wa/tmp_1tb/Monthly_tifs_/Incremental_ET_M/Incremental_ET_M_2006.06.01.tif\n",
      "42 6 3 /home/iwmi-wa/tmp_1tb/Monthly_tifs_/Incremental_ET_M/Incremental_ET_M_2006.07.01.tif\n",
      "43 7 3 /home/iwmi-wa/tmp_1tb/Monthly_tifs_/Incremental_ET_M/Incremental_ET_M_2006.08.01.tif\n",
      "44 8 3 /home/iwmi-wa/tmp_1tb/Monthly_tifs_/Incremental_ET_M/Incremental_ET_M_2006.09.01.tif\n",
      "45 9 3 /home/iwmi-wa/tmp_1tb/Monthly_tifs_/Incremental_ET_M/Incremental_ET_M_2006.10.01.tif\n",
      "46 10 3 /home/iwmi-wa/tmp_1tb/Monthly_tifs_/Incremental_ET_M/Incremental_ET_M_2006.11.01.tif\n",
      "47 -1 3 /home/iwmi-wa/tmp_1tb/Monthly_tifs_/Incremental_ET_M/Incremental_ET_M_2006.12.01.tif\n",
      "48 0 4 /home/iwmi-wa/tmp_1tb/Monthly_tifs_/Incremental_ET_M/Incremental_ET_M_2007.01.01.tif\n",
      "49 1 4 /home/iwmi-wa/tmp_1tb/Monthly_tifs_/Incremental_ET_M/Incremental_ET_M_2007.02.01.tif\n",
      "50 2 4 /home/iwmi-wa/tmp_1tb/Monthly_tifs_/Incremental_ET_M/Incremental_ET_M_2007.03.01.tif\n",
      "51 3 4 /home/iwmi-wa/tmp_1tb/Monthly_tifs_/Incremental_ET_M/Incremental_ET_M_2007.04.01.tif\n",
      "52 4 4 /home/iwmi-wa/tmp_1tb/Monthly_tifs_/Incremental_ET_M/Incremental_ET_M_2007.05.01.tif\n",
      "53 5 4 /home/iwmi-wa/tmp_1tb/Monthly_tifs_/Incremental_ET_M/Incremental_ET_M_2007.06.01.tif\n",
      "54 6 4 /home/iwmi-wa/tmp_1tb/Monthly_tifs_/Incremental_ET_M/Incremental_ET_M_2007.07.01.tif\n",
      "55 7 4 /home/iwmi-wa/tmp_1tb/Monthly_tifs_/Incremental_ET_M/Incremental_ET_M_2007.08.01.tif\n",
      "56 8 4 /home/iwmi-wa/tmp_1tb/Monthly_tifs_/Incremental_ET_M/Incremental_ET_M_2007.09.01.tif\n",
      "57 9 4 /home/iwmi-wa/tmp_1tb/Monthly_tifs_/Incremental_ET_M/Incremental_ET_M_2007.10.01.tif\n",
      "58 10 4 /home/iwmi-wa/tmp_1tb/Monthly_tifs_/Incremental_ET_M/Incremental_ET_M_2007.11.01.tif\n",
      "59 -1 4 /home/iwmi-wa/tmp_1tb/Monthly_tifs_/Incremental_ET_M/Incremental_ET_M_2007.12.01.tif\n",
      "12 0 6 /home/iwmi-wa/tmp_1tb/Monthly_tifs_/Incremental_ET_M/Incremental_ET_M_2008.01.01.tif\n",
      "13 1 6 /home/iwmi-wa/tmp_1tb/Monthly_tifs_/Incremental_ET_M/Incremental_ET_M_2008.02.01.tif\n",
      "14 2 6 /home/iwmi-wa/tmp_1tb/Monthly_tifs_/Incremental_ET_M/Incremental_ET_M_2008.03.01.tif\n",
      "15 3 6 /home/iwmi-wa/tmp_1tb/Monthly_tifs_/Incremental_ET_M/Incremental_ET_M_2008.04.01.tif\n",
      "16 4 6 /home/iwmi-wa/tmp_1tb/Monthly_tifs_/Incremental_ET_M/Incremental_ET_M_2008.05.01.tif\n",
      "17 5 6 /home/iwmi-wa/tmp_1tb/Monthly_tifs_/Incremental_ET_M/Incremental_ET_M_2008.06.01.tif\n",
      "18 6 6 /home/iwmi-wa/tmp_1tb/Monthly_tifs_/Incremental_ET_M/Incremental_ET_M_2008.07.01.tif\n",
      "19 7 6 /home/iwmi-wa/tmp_1tb/Monthly_tifs_/Incremental_ET_M/Incremental_ET_M_2008.08.01.tif\n",
      "20 8 6 /home/iwmi-wa/tmp_1tb/Monthly_tifs_/Incremental_ET_M/Incremental_ET_M_2008.09.01.tif\n",
      "21 9 6 /home/iwmi-wa/tmp_1tb/Monthly_tifs_/Incremental_ET_M/Incremental_ET_M_2008.10.01.tif\n",
      "22 10 6 /home/iwmi-wa/tmp_1tb/Monthly_tifs_/Incremental_ET_M/Incremental_ET_M_2008.11.01.tif\n",
      "23 -1 6 /home/iwmi-wa/tmp_1tb/Monthly_tifs_/Incremental_ET_M/Incremental_ET_M_2008.12.01.tif\n",
      "24 0 7 /home/iwmi-wa/tmp_1tb/Monthly_tifs_/Incremental_ET_M/Incremental_ET_M_2009.01.01.tif\n",
      "25 1 7 /home/iwmi-wa/tmp_1tb/Monthly_tifs_/Incremental_ET_M/Incremental_ET_M_2009.02.01.tif\n",
      "26 2 7 /home/iwmi-wa/tmp_1tb/Monthly_tifs_/Incremental_ET_M/Incremental_ET_M_2009.03.01.tif\n",
      "27 3 7 /home/iwmi-wa/tmp_1tb/Monthly_tifs_/Incremental_ET_M/Incremental_ET_M_2009.04.01.tif\n",
      "28 4 7 /home/iwmi-wa/tmp_1tb/Monthly_tifs_/Incremental_ET_M/Incremental_ET_M_2009.05.01.tif\n",
      "29 5 7 /home/iwmi-wa/tmp_1tb/Monthly_tifs_/Incremental_ET_M/Incremental_ET_M_2009.06.01.tif\n",
      "30 6 7 /home/iwmi-wa/tmp_1tb/Monthly_tifs_/Incremental_ET_M/Incremental_ET_M_2009.07.01.tif\n",
      "31 7 7 /home/iwmi-wa/tmp_1tb/Monthly_tifs_/Incremental_ET_M/Incremental_ET_M_2009.08.01.tif\n",
      "32 8 7 /home/iwmi-wa/tmp_1tb/Monthly_tifs_/Incremental_ET_M/Incremental_ET_M_2009.09.01.tif\n",
      "33 9 7 /home/iwmi-wa/tmp_1tb/Monthly_tifs_/Incremental_ET_M/Incremental_ET_M_2009.10.01.tif\n",
      "34 10 7 /home/iwmi-wa/tmp_1tb/Monthly_tifs_/Incremental_ET_M/Incremental_ET_M_2009.11.01.tif\n",
      "35 -1 7 /home/iwmi-wa/tmp_1tb/Monthly_tifs_/Incremental_ET_M/Incremental_ET_M_2009.12.01.tif\n",
      "36 0 8 /home/iwmi-wa/tmp_1tb/Monthly_tifs_/Incremental_ET_M/Incremental_ET_M_2010.01.01.tif\n",
      "37 1 8 /home/iwmi-wa/tmp_1tb/Monthly_tifs_/Incremental_ET_M/Incremental_ET_M_2010.02.01.tif\n",
      "38 2 8 /home/iwmi-wa/tmp_1tb/Monthly_tifs_/Incremental_ET_M/Incremental_ET_M_2010.03.01.tif\n",
      "39 3 8 /home/iwmi-wa/tmp_1tb/Monthly_tifs_/Incremental_ET_M/Incremental_ET_M_2010.04.01.tif\n",
      "40 4 8 /home/iwmi-wa/tmp_1tb/Monthly_tifs_/Incremental_ET_M/Incremental_ET_M_2010.05.01.tif\n",
      "41 5 8 /home/iwmi-wa/tmp_1tb/Monthly_tifs_/Incremental_ET_M/Incremental_ET_M_2010.06.01.tif\n",
      "42 6 8 /home/iwmi-wa/tmp_1tb/Monthly_tifs_/Incremental_ET_M/Incremental_ET_M_2010.07.01.tif\n",
      "43 7 8 /home/iwmi-wa/tmp_1tb/Monthly_tifs_/Incremental_ET_M/Incremental_ET_M_2010.08.01.tif\n",
      "44 8 8 /home/iwmi-wa/tmp_1tb/Monthly_tifs_/Incremental_ET_M/Incremental_ET_M_2010.09.01.tif\n",
      "45 9 8 /home/iwmi-wa/tmp_1tb/Monthly_tifs_/Incremental_ET_M/Incremental_ET_M_2010.10.01.tif\n",
      "46 10 8 /home/iwmi-wa/tmp_1tb/Monthly_tifs_/Incremental_ET_M/Incremental_ET_M_2010.11.01.tif\n",
      "47 -1 8 /home/iwmi-wa/tmp_1tb/Monthly_tifs_/Incremental_ET_M/Incremental_ET_M_2010.12.01.tif\n",
      "48 0 9 /home/iwmi-wa/tmp_1tb/Monthly_tifs_/Incremental_ET_M/Incremental_ET_M_2011.01.01.tif\n",
      "49 1 9 /home/iwmi-wa/tmp_1tb/Monthly_tifs_/Incremental_ET_M/Incremental_ET_M_2011.02.01.tif\n",
      "50 2 9 /home/iwmi-wa/tmp_1tb/Monthly_tifs_/Incremental_ET_M/Incremental_ET_M_2011.03.01.tif\n",
      "51 3 9 /home/iwmi-wa/tmp_1tb/Monthly_tifs_/Incremental_ET_M/Incremental_ET_M_2011.04.01.tif\n",
      "52 4 9 /home/iwmi-wa/tmp_1tb/Monthly_tifs_/Incremental_ET_M/Incremental_ET_M_2011.05.01.tif\n",
      "53 5 9 /home/iwmi-wa/tmp_1tb/Monthly_tifs_/Incremental_ET_M/Incremental_ET_M_2011.06.01.tif\n",
      "54 6 9 /home/iwmi-wa/tmp_1tb/Monthly_tifs_/Incremental_ET_M/Incremental_ET_M_2011.07.01.tif\n",
      "55 7 9 /home/iwmi-wa/tmp_1tb/Monthly_tifs_/Incremental_ET_M/Incremental_ET_M_2011.08.01.tif\n",
      "56 8 9 /home/iwmi-wa/tmp_1tb/Monthly_tifs_/Incremental_ET_M/Incremental_ET_M_2011.09.01.tif\n",
      "57 9 9 /home/iwmi-wa/tmp_1tb/Monthly_tifs_/Incremental_ET_M/Incremental_ET_M_2011.10.01.tif\n",
      "58 10 9 /home/iwmi-wa/tmp_1tb/Monthly_tifs_/Incremental_ET_M/Incremental_ET_M_2011.11.01.tif\n",
      "59 -1 9 /home/iwmi-wa/tmp_1tb/Monthly_tifs_/Incremental_ET_M/Incremental_ET_M_2011.12.01.tif\n",
      "12 0 11 /home/iwmi-wa/tmp_1tb/Monthly_tifs_/Incremental_ET_M/Incremental_ET_M_2012.01.01.tif\n",
      "13 1 11 /home/iwmi-wa/tmp_1tb/Monthly_tifs_/Incremental_ET_M/Incremental_ET_M_2012.02.01.tif\n",
      "14 2 11 /home/iwmi-wa/tmp_1tb/Monthly_tifs_/Incremental_ET_M/Incremental_ET_M_2012.03.01.tif\n",
      "15 3 11 /home/iwmi-wa/tmp_1tb/Monthly_tifs_/Incremental_ET_M/Incremental_ET_M_2012.04.01.tif\n",
      "16 4 11 /home/iwmi-wa/tmp_1tb/Monthly_tifs_/Incremental_ET_M/Incremental_ET_M_2012.05.01.tif\n",
      "17 5 11 /home/iwmi-wa/tmp_1tb/Monthly_tifs_/Incremental_ET_M/Incremental_ET_M_2012.06.01.tif\n",
      "18 6 11 /home/iwmi-wa/tmp_1tb/Monthly_tifs_/Incremental_ET_M/Incremental_ET_M_2012.07.01.tif\n",
      "19 7 11 /home/iwmi-wa/tmp_1tb/Monthly_tifs_/Incremental_ET_M/Incremental_ET_M_2012.08.01.tif\n",
      "20 8 11 /home/iwmi-wa/tmp_1tb/Monthly_tifs_/Incremental_ET_M/Incremental_ET_M_2012.09.01.tif\n",
      "21 9 11 /home/iwmi-wa/tmp_1tb/Monthly_tifs_/Incremental_ET_M/Incremental_ET_M_2012.10.01.tif\n",
      "22 10 11 /home/iwmi-wa/tmp_1tb/Monthly_tifs_/Incremental_ET_M/Incremental_ET_M_2012.11.01.tif\n",
      "23 -1 11 /home/iwmi-wa/tmp_1tb/Monthly_tifs_/Incremental_ET_M/Incremental_ET_M_2012.12.01.tif\n",
      "24 0 12 /home/iwmi-wa/tmp_1tb/Monthly_tifs_/Incremental_ET_M/Incremental_ET_M_2013.01.01.tif\n",
      "25 1 12 /home/iwmi-wa/tmp_1tb/Monthly_tifs_/Incremental_ET_M/Incremental_ET_M_2013.02.01.tif\n",
      "26 2 12 /home/iwmi-wa/tmp_1tb/Monthly_tifs_/Incremental_ET_M/Incremental_ET_M_2013.03.01.tif\n",
      "27 3 12 /home/iwmi-wa/tmp_1tb/Monthly_tifs_/Incremental_ET_M/Incremental_ET_M_2013.04.01.tif\n",
      "28 4 12 /home/iwmi-wa/tmp_1tb/Monthly_tifs_/Incremental_ET_M/Incremental_ET_M_2013.05.01.tif\n",
      "29 5 12 /home/iwmi-wa/tmp_1tb/Monthly_tifs_/Incremental_ET_M/Incremental_ET_M_2013.06.01.tif\n",
      "30 6 12 /home/iwmi-wa/tmp_1tb/Monthly_tifs_/Incremental_ET_M/Incremental_ET_M_2013.07.01.tif\n",
      "31 7 12 /home/iwmi-wa/tmp_1tb/Monthly_tifs_/Incremental_ET_M/Incremental_ET_M_2013.08.01.tif\n",
      "32 8 12 /home/iwmi-wa/tmp_1tb/Monthly_tifs_/Incremental_ET_M/Incremental_ET_M_2013.09.01.tif\n",
      "33 9 12 /home/iwmi-wa/tmp_1tb/Monthly_tifs_/Incremental_ET_M/Incremental_ET_M_2013.10.01.tif\n",
      "34 10 12 /home/iwmi-wa/tmp_1tb/Monthly_tifs_/Incremental_ET_M/Incremental_ET_M_2013.11.01.tif\n",
      "35 -1 12 /home/iwmi-wa/tmp_1tb/Monthly_tifs_/Incremental_ET_M/Incremental_ET_M_2013.12.01.tif\n",
      "36 0 13 /home/iwmi-wa/tmp_1tb/Monthly_tifs_/Incremental_ET_M/Incremental_ET_M_2014.01.01.tif\n",
      "37 1 13 /home/iwmi-wa/tmp_1tb/Monthly_tifs_/Incremental_ET_M/Incremental_ET_M_2014.02.01.tif\n",
      "38 2 13 /home/iwmi-wa/tmp_1tb/Monthly_tifs_/Incremental_ET_M/Incremental_ET_M_2014.03.01.tif\n",
      "39 3 13 /home/iwmi-wa/tmp_1tb/Monthly_tifs_/Incremental_ET_M/Incremental_ET_M_2014.04.01.tif\n",
      "40 4 13 /home/iwmi-wa/tmp_1tb/Monthly_tifs_/Incremental_ET_M/Incremental_ET_M_2014.05.01.tif\n",
      "41 5 13 /home/iwmi-wa/tmp_1tb/Monthly_tifs_/Incremental_ET_M/Incremental_ET_M_2014.06.01.tif\n",
      "42 6 13 /home/iwmi-wa/tmp_1tb/Monthly_tifs_/Incremental_ET_M/Incremental_ET_M_2014.07.01.tif\n",
      "43 7 13 /home/iwmi-wa/tmp_1tb/Monthly_tifs_/Incremental_ET_M/Incremental_ET_M_2014.08.01.tif\n"
     ]
    },
    {
     "ename": "KeyboardInterrupt",
     "evalue": "",
     "output_type": "error",
     "traceback": [
      "\u001b[0;31m---------------------------------------------------------------------------\u001b[0m",
      "\u001b[0;31mKeyboardInterrupt\u001b[0m                         Traceback (most recent call last)",
      "\u001b[0;32m/tmp/ipykernel_103248/1336263117.py\u001b[0m in \u001b[0;36m<module>\u001b[0;34m\u001b[0m\n\u001b[1;32m     80\u001b[0m                 \u001b[0;31m# Write the band to a GeoTIFF file with compression\u001b[0m\u001b[0;34m\u001b[0m\u001b[0;34m\u001b[0m\u001b[0;34m\u001b[0m\u001b[0m\n\u001b[1;32m     81\u001b[0m                 \u001b[0;32mwith\u001b[0m \u001b[0mrasterio\u001b[0m\u001b[0;34m.\u001b[0m\u001b[0mopen\u001b[0m\u001b[0;34m(\u001b[0m\u001b[0moutput_tiff_name\u001b[0m\u001b[0;34m,\u001b[0m \u001b[0;34m'w'\u001b[0m\u001b[0;34m,\u001b[0m \u001b[0;34m**\u001b[0m\u001b[0mprofile\u001b[0m\u001b[0;34m)\u001b[0m \u001b[0;32mas\u001b[0m \u001b[0mdst\u001b[0m\u001b[0;34m:\u001b[0m\u001b[0;34m\u001b[0m\u001b[0;34m\u001b[0m\u001b[0m\n\u001b[0;32m---> 82\u001b[0;31m                     \u001b[0mdst\u001b[0m\u001b[0;34m.\u001b[0m\u001b[0mwrite\u001b[0m\u001b[0;34m(\u001b[0m\u001b[0mband_data\u001b[0m\u001b[0;34m,\u001b[0m \u001b[0;36m1\u001b[0m\u001b[0;34m)\u001b[0m\u001b[0;34m\u001b[0m\u001b[0;34m\u001b[0m\u001b[0m\n\u001b[0m\u001b[1;32m     83\u001b[0m \u001b[0;34m\u001b[0m\u001b[0m\n\u001b[1;32m     84\u001b[0m \u001b[0;31m#             Close the NetCDF file\u001b[0m\u001b[0;34m\u001b[0m\u001b[0;34m\u001b[0m\u001b[0;34m\u001b[0m\u001b[0m\n",
      "\u001b[0;31mKeyboardInterrupt\u001b[0m: "
     ]
    }
   ],
   "source": [
    "import os\n",
    "import netCDF4 as nc\n",
    "import numpy as np\n",
    "import rasterio\n",
    "from rasterio.transform import from_origin\n",
    "from datetime import datetime\n",
    "\n",
    "fldrs = ['03_07','07_11','11_15','15_19','19_21']\n",
    "names = [ 2003, 2004, 2005, 2006, 2007, 2007, 2008, 2009, 2010, 2011, 2011, 2012, 2013, 2014, 2015, 2015, 2016, 2017, 2018, 2019, 2019, 2020, 2021]\n",
    "skips = [5, 10, 15, 20]\n",
    "months = ['01','02','03','04','05','06','07','08','09','10','11','12']\n",
    "# variable = 'Rainfall_ET_M'\n",
    "# print(names)\n",
    "netcdfs = ['etincr_monthly','etrain_monthly', 'AFR_P_CHIRPS', 'AFR_LU_WA_resampled_monthly', 'fractions','sro_monthly', 'transpiration', 'evaporation','AFR_ETa_SSEBop']\n",
    "# netcdfs = ['AFR_ETa_SSEBop', 'AFR_P_CHIRPS']\n",
    "\n",
    "for netcdf in netcdfs:\n",
    "    \n",
    "        i = 0\n",
    "\n",
    "        for fldr in fldrs:\n",
    "\n",
    "\n",
    "            # Replace with your input NetCDF file path\n",
    "            nc_file_path = \"/efs/CWA/netcdf_files_%s_/%s.nc\"%(fldr, netcdf)\n",
    "\n",
    "            # Open the NetCDF file for reading\n",
    "            nc_dataset = nc.Dataset(nc_file_path, 'r')\n",
    "\n",
    "            variable = list(nc_dataset.variables.keys())[-1]\n",
    "\n",
    "            # Replace with the output directory where you want to save the GeoTIFF files\n",
    "            output_dir = \"/home/iwmi-wa/tmp_1tb/Monthly_tifs_/%s/\"%(variable)\n",
    "\n",
    "            # Create the output directory if it doesn't exist\n",
    "            os.makedirs(output_dir, exist_ok=True)\n",
    "            \n",
    "            j = -1\n",
    "\n",
    "            # Loop through each band and convert it to a GeoTIFF\n",
    "            for band_index in range(len(nc_dataset.variables['time'])):\n",
    "                \n",
    "                j = j + 1\n",
    "\n",
    "                if (j<12 and i>0): continue\n",
    "                \n",
    "                m = ((j+1)%12)-1\n",
    "                \n",
    "                y = int(j/12) + i*5\n",
    "                \n",
    "#                 print(band_index,m)\n",
    "\n",
    "                band_data = nc_dataset.variables[variable][band_index]  # Using the 'Rainfall_ET_M' variable\n",
    "#                 year = int(nc_dataset.variables['time'][band_index])  # Extracting the year from the 'time' variable\n",
    "\n",
    "                output_tiff_name = os.path.join(output_dir, f\"{variable}_{names[y]}.{months[m]}.01.tif\")\n",
    "                print(band_index,m,y,output_tiff_name)\n",
    "\n",
    "                # Define a transform for EPSG:4326\n",
    "                transform = from_origin(\n",
    "                    nc_dataset.variables['longitude'][0],\n",
    "                    nc_dataset.variables['latitude'][0],\n",
    "                    nc_dataset.variables['longitude'][1] - nc_dataset.variables['longitude'][0],\n",
    "                    - nc_dataset.variables['latitude'][1] + nc_dataset.variables['latitude'][0]\n",
    "                )\n",
    "\n",
    "\n",
    "                # Specify compression and other options\n",
    "                profile = {\n",
    "                    'driver': 'GTiff',\n",
    "                    'height': band_data.shape[0],\n",
    "                    'width': band_data.shape[1],\n",
    "                    'count': 1,\n",
    "                    'dtype': str(band_data.dtype),\n",
    "                    'crs': 'EPSG:4326',  # Common CRS for WGS 84\n",
    "                    'transform': transform,\n",
    "                    'compress': 'LZW',  # Change to your desired compression method (e.g., 'LZW', 'DEFLATE', 'JPEG', etc.)\n",
    "                }\n",
    "\n",
    "                # Write the band to a GeoTIFF file with compression\n",
    "                with rasterio.open(output_tiff_name, 'w', **profile) as dst:\n",
    "                    dst.write(band_data, 1)\n",
    "\n",
    "#             Close the NetCDF file\n",
    "            nc_dataset.close()\n",
    "            \n",
    "            i =i+1\n"
   ]
  },
  {
   "cell_type": "code",
   "execution_count": 4,
   "id": "d7c44494-023d-442a-bda6-fd3d3f2bdbfa",
   "metadata": {},
   "outputs": [
    {
     "name": "stderr",
     "output_type": "stream",
     "text": [
      "  0%|                                                    | 0/19 [00:00<?, ?it/s]"
     ]
    },
    {
     "name": "stdout",
     "output_type": "stream",
     "text": [
      "2.402592014227878e-15\n",
      "1.1501216645726231e-15\n"
     ]
    },
    {
     "name": "stderr",
     "output_type": "stream",
     "text": [
      "100%|███████████████████████████████████████████| 19/19 [04:24<00:00, 13.90s/it]\n"
     ]
    },
    {
     "name": "stdout",
     "output_type": "stream",
     "text": [
      "Time for P - 269.7354168891907\n"
     ]
    },
    {
     "name": "stderr",
     "output_type": "stream",
     "text": [
      "  0%|                                                    | 0/19 [00:00<?, ?it/s]"
     ]
    },
    {
     "name": "stdout",
     "output_type": "stream",
     "text": [
      "2.402592014227878e-15\n",
      "1.1501216645726231e-15\n"
     ]
    },
    {
     "name": "stderr",
     "output_type": "stream",
     "text": [
      "100%|███████████████████████████████████████████| 19/19 [14:40<00:00, 46.34s/it]\n"
     ]
    },
    {
     "name": "stdout",
     "output_type": "stream",
     "text": [
      "Time for ET - 886.0543773174286\n"
     ]
    },
    {
     "name": "stderr",
     "output_type": "stream",
     "text": [
      "  0%|                                                    | 0/19 [00:00<?, ?it/s]"
     ]
    },
    {
     "name": "stdout",
     "output_type": "stream",
     "text": [
      "2.402592014227878e-15\n",
      "1.1501216645726231e-15\n"
     ]
    },
    {
     "name": "stderr",
     "output_type": "stream",
     "text": [
      "100%|███████████████████████████████████████████| 19/19 [13:47<00:00, 43.54s/it]\n"
     ]
    },
    {
     "name": "stdout",
     "output_type": "stream",
     "text": [
      "Time for ETincr - 836.1562864780426\n"
     ]
    },
    {
     "name": "stderr",
     "output_type": "stream",
     "text": [
      "  0%|                                                    | 0/19 [00:00<?, ?it/s]"
     ]
    },
    {
     "name": "stdout",
     "output_type": "stream",
     "text": [
      "2.402592014227878e-15\n",
      "1.1501216645726231e-15\n"
     ]
    },
    {
     "name": "stderr",
     "output_type": "stream",
     "text": [
      "100%|███████████████████████████████████████████| 19/19 [15:44<00:00, 49.72s/it]\n"
     ]
    },
    {
     "name": "stdout",
     "output_type": "stream",
     "text": [
      "Time for ETrain - 951.1510970592499\n"
     ]
    },
    {
     "name": "stderr",
     "output_type": "stream",
     "text": [
      "  0%|                                                    | 0/19 [00:00<?, ?it/s]"
     ]
    },
    {
     "name": "stdout",
     "output_type": "stream",
     "text": [
      "2.402592014227878e-15\n",
      "1.1501216645726231e-15\n"
     ]
    },
    {
     "name": "stderr",
     "output_type": "stream",
     "text": [
      "100%|███████████████████████████████████████████| 19/19 [12:03<00:00, 38.07s/it]"
     ]
    },
    {
     "name": "stdout",
     "output_type": "stream",
     "text": [
      "Time for SRO - 729.0167715549469\n",
      "Total time for execution -  3672.1148002147675\n"
     ]
    },
    {
     "name": "stderr",
     "output_type": "stream",
     "text": [
      "\n"
     ]
    }
   ],
   "source": [
    "# -*- coding: utf-8 -*-\n",
    "\"\"\"\n",
    "Created on Fri Jan 24 11:01:05 2020\n",
    "\n",
    "@author: cmi001\n",
    "\"\"\"\n",
    "\n",
    "# %% netCDF files from\n",
    "import os\n",
    "import glob\n",
    "import sys\n",
    "\n",
    "sys.path.append(r'/efs/CWA/scripts_aridity')\n",
    "import  createNC_cmi\n",
    "import time\n",
    "\n",
    "Tstart = time.time()\n",
    "\n",
    "basedir = r\"/home/iwmi-wa/tmp_1tb/TIFF\"\n",
    "\n",
    "pathP = os.path.join(basedir,'P')\n",
    "pathETa = os.path.join(basedir,'ETa' )\n",
    "pathETinr = os.path.join(basedir,'Incremental_ET_M' )\n",
    "pathETtrain = os.path.join(basedir,'Rainfall_ET_M' )\n",
    "pathF = os.path.join(basedir,'fraction' )\n",
    "pathLU = os.path.join(basedir,'LU')\n",
    "pathT = os.path.join(basedir,'transpiration' )\n",
    "pathE = os.path.join(basedir,'evaporation' )\n",
    "pathSRO = os.path.join(basedir,'SRO_M')\n",
    "\n",
    "template = r\"/efs/CWA/static_datasets/basin_mask/AFR_basinmask_1km.tif\"\n",
    "\n",
    "shp_path = r\"/efs/CWA/static_datasets/shapefile/Africa_adm0_buffer.shp\"\n",
    "save_location = r\"/home/iwmi-wa/tmp_1tb/Yearly_nc/\"\n",
    "\n",
    "\n",
    "name = 'AFR'\n",
    "\n",
    "datasets = {\n",
    "                    'P'      :   [pathP, \n",
    "                                 ('time','latitude', 'longitude'), \n",
    "                                       {'units': 'mm/month', 'source': 'CHIRPS_yearly', 'quantity':'P'}],\n",
    "                    'ET'     :   [pathETa, \n",
    "                                   ('time','latitude', 'longitude'), \n",
    "                                   {'units': 'mm/month', 'source': 'SSEBop_yearly', 'quantity':'ETa'}],   \n",
    "#                     'LU'     :   [pathLU,\n",
    "#                                    ('time','latitude', 'longitude'), \n",
    "#                                    {'units': 'None', 'source': 'WA', 'quantity':'LU'}], \n",
    "    \n",
    "                    'ETincr'     :   [pathETinr,\n",
    "                                   ('time','latitude', 'longitude'), \n",
    "                                   {'units': 'None', 'source': 'ETincr_yearly', 'quantity':'Incremental_ET_M'}],\n",
    "                    'ETrain'     :   [pathETtrain,\n",
    "                                   ('time','latitude', 'longitude'), \n",
    "                                   {'units': 'None', 'source': 'ETrain_yearly', 'quantity':'Rainfall_ET_M'}],\n",
    "#                     'F'     :   [pathF,\n",
    "#                                    ('time','latitude', 'longitude'), \n",
    "#                                    {'units': 'None', 'source': 'F', 'quantity':'fraction'}],\n",
    "#                     'E'     :   [pathE,\n",
    "#                                    ('time','latitude', 'longitude'), \n",
    "#                                    {'units': 'None', 'source': 'E', 'quantity':'evaporation'}],\n",
    "#                     'T'     :   [pathT,\n",
    "#                                    ('time','latitude', 'longitude'), \n",
    "#                                    {'units': 'None', 'source': 'T', 'quantity':'evaporation'}],\n",
    "                    'SRO'     :   [pathSRO,\n",
    "                                   ('time','latitude', 'longitude'), \n",
    "                                   {'units': 'None', 'source': 'SRO_yearly', 'quantity':'SRO_M'}]\n",
    "          }\n",
    "\n",
    "nc_files = []\n",
    "\n",
    "if not os.path.exists(save_location):\n",
    "    os.makedirs(save_location)\n",
    "\n",
    "for d in datasets:\n",
    "    start = time.time()\n",
    "    filesAll = glob.glob(os.path.join(datasets[d][0],'*.tif'))\n",
    "    dataset = {d: datasets[d]}\n",
    "    fname = name+'_'+datasets[d][2]['quantity']+'_'+ datasets[d][2]['source']+'.nc'\n",
    "    nc_file = os.path.join(save_location, fname)\n",
    "    nc_files.append(nc_file)\n",
    "    succes = createNC_cmi.make_netcdf(nc_file, dataset, shp_path, template, name)    \n",
    "    end = time.time()\n",
    "    print('Time for {} - {}'.format(d, end - start))\n",
    "    \n",
    "Tend = time.time()\n",
    "print('Total time for execution - ',Tend - Tstart)"
   ]
  },
  {
   "cell_type": "code",
   "execution_count": null,
   "id": "de45d34c-33bb-479a-984f-6b2ccb5a28cc",
   "metadata": {},
   "outputs": [],
   "source": []
  }
 ],
 "metadata": {
  "kernelspec": {
   "display_name": "Python 3 (ipykernel)",
   "language": "python",
   "name": "python3"
  },
  "language_info": {
   "codemirror_mode": {
    "name": "ipython",
    "version": 3
   },
   "file_extension": ".py",
   "mimetype": "text/x-python",
   "name": "python",
   "nbconvert_exporter": "python",
   "pygments_lexer": "ipython3",
   "version": "3.7.7"
  }
 },
 "nbformat": 4,
 "nbformat_minor": 5
}
