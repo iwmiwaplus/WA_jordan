{
 "cells": [
  {
   "cell_type": "markdown",
   "id": "c51b8cd3-fa02-4ff7-87f3-d351feb8bb52",
   "metadata": {},
   "source": [
    " ## Correction for template nodata values (255, -9999)"
   ]
  },
  {
   "cell_type": "code",
   "execution_count": 8,
   "id": "65f4448f-cced-4254-9724-c7ea87d56056",
   "metadata": {},
   "outputs": [],
   "source": [
    "import os\n",
    "import rasterio\n",
    "import numpy as np\n",
    "path = r'/efs/CWA/static_datasets/template/L1_LCC_21_Resample_1km.tif'"
   ]
  },
  {
   "cell_type": "code",
   "execution_count": 44,
   "id": "5dbbe245-625d-4b90-8736-5b2dc5be04be",
   "metadata": {},
   "outputs": [],
   "source": [
    "dataset = rasterio.open(path)\n",
    "data = dataset.read(1)\n",
    "profile = {'driver': 'GTiff', 'dtype': 'float32', 'nodata': -9999, 'width':dataset.shape[1],                   \n",
    "           'height':dataset.shape[0] , 'count': 1, 'crs': dataset.crs, 'transform': dataset.transform,\n",
    "           'compress':'lzw', 'num_threads':'all_cpus', 'blockxsize':128, 'blockysize':128, 'tiled':True}\n",
    "\n",
    "data = data.astype('float32')"
   ]
  },
  {
   "cell_type": "code",
   "execution_count": 46,
   "id": "c5b0ad78-7231-4fc9-9d19-b1d075c63168",
   "metadata": {},
   "outputs": [
    {
     "data": {
      "text/plain": [
       "255.0"
      ]
     },
     "execution_count": 46,
     "metadata": {},
     "output_type": "execute_result"
    }
   ],
   "source": [
    "dataset.nodata"
   ]
  },
  {
   "cell_type": "code",
   "execution_count": 47,
   "id": "0449789d-a858-4fde-94b8-226663122622",
   "metadata": {},
   "outputs": [],
   "source": [
    "band1 = np.where(data == dataset.nodata, -9999, data)"
   ]
  },
  {
   "cell_type": "code",
   "execution_count": 48,
   "id": "12c0263f-d37f-4ada-ad40-8f098aa8ec0a",
   "metadata": {},
   "outputs": [
    {
     "data": {
      "text/plain": [
       "(8558, 10345)"
      ]
     },
     "execution_count": 48,
     "metadata": {},
     "output_type": "execute_result"
    }
   ],
   "source": [
    "band1.shape"
   ]
  },
  {
   "cell_type": "code",
   "execution_count": 49,
   "id": "bb35b5a9-b006-4119-b7f2-41f5ea432e31",
   "metadata": {},
   "outputs": [],
   "source": [
    "outpath = '/efs/CWA/static_datasets/template/L1_LCC_21_Resample_1km_correct_nodata.tif'\n",
    "with rasterio.open(outpath, \"w\", **profile) as dst:\n",
    "        dst.write(band1, indexes=1)"
   ]
  },
  {
   "cell_type": "code",
   "execution_count": null,
   "id": "12c08afc-6d00-48fd-ad91-7ee39db169bd",
   "metadata": {},
   "outputs": [],
   "source": []
  }
 ],
 "metadata": {
  "kernelspec": {
   "display_name": "Python 3 (ipykernel)",
   "language": "python",
   "name": "python3"
  },
  "language_info": {
   "codemirror_mode": {
    "name": "ipython",
    "version": 3
   },
   "file_extension": ".py",
   "mimetype": "text/x-python",
   "name": "python",
   "nbconvert_exporter": "python",
   "pygments_lexer": "ipython3",
   "version": "3.7.7"
  }
 },
 "nbformat": 4,
 "nbformat_minor": 5
}
