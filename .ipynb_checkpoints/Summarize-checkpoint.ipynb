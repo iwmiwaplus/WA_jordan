{
 "cells": [
  {
   "cell_type": "code",
   "execution_count": 1,
   "id": "35a10b81-d0ff-4f8c-a877-567e163b3f69",
   "metadata": {},
   "outputs": [],
   "source": [
    "import pandas as pd\n",
    "import os\n",
    "import sys\n",
    "sys.path.append(r'/home/iwmi-wa/Amman_zarqa_run/Scripts/')\n",
    "from WAsheets_jordan import print_sheet as ps\n",
    "\n",
    "# Directory containing your CSV files\n",
    "directory = '/home/iwmi-wa/Amman_zarqa_run/hydroloop_results/csv/sheet1/yearly_new/'\n",
    "\n",
    "save_path = os.path.abspath(os.path.join(directory,'..','average_sheet1'))\n",
    "\n",
    "os.makedirs(save_path) if not os.path.exists(save_path) else None\n",
    "\n",
    "# Step 1: Read all the CSV files in the directory and extract 'VALUE' column\n",
    "csv_files = [file for file in os.listdir(directory) if file.endswith('.csv')]\n",
    "dataframes = []\n",
    "\n",
    "for csv_file in csv_files:\n",
    "    file_path = os.path.join(directory, csv_file)\n",
    "    df = pd.read_csv(file_path, delimiter=';')\n",
    "    dataframes.append(df['VALUE'])\n",
    "\n",
    "# Step 2: Calculate the average of 'VALUE' column\n",
    "average_values = sum(dataframes) / len(dataframes)\n",
    "\n",
    "# Step 3: Choose one CSV file to replace 'VALUE' column with averaged values\n",
    "# For example, we'll use the first CSV file\n",
    "first_csv_file = os.path.join(directory, csv_files[0])\n",
    "first_df = pd.read_csv(first_csv_file, delimiter=';')\n",
    "first_df['VALUE'] = average_values\n",
    "\n",
    "# Step 4: Save the modified CSV as a semicolon-delimited file\n",
    "file_name = 'sheet1.csv'\n",
    "average_file = os.path.join(save_path, file_name) \n",
    "first_df.to_csv(average_file, sep=';', index=False)\n"
   ]
  },
  {
   "cell_type": "code",
   "execution_count": 2,
   "id": "fe1a989d-42e5-431c-a678-897d22ee9a83",
   "metadata": {},
   "outputs": [
    {
     "ename": "TypeError",
     "evalue": "cannot convert the series to <class 'float'>",
     "output_type": "error",
     "traceback": [
      "\u001b[0;31m---------------------------------------------------------------------------\u001b[0m",
      "\u001b[0;31mTypeError\u001b[0m                                 Traceback (most recent call last)",
      "\u001b[0;32m/tmp/ipykernel_3540/1555431835.py\u001b[0m in \u001b[0;36m<module>\u001b[0;34m\u001b[0m\n\u001b[1;32m      7\u001b[0m \u001b[0moutput\u001b[0m\u001b[0;34m=\u001b[0m\u001b[0maverage_file\u001b[0m\u001b[0;34m.\u001b[0m\u001b[0mreplace\u001b[0m\u001b[0;34m(\u001b[0m\u001b[0;34m'.csv'\u001b[0m\u001b[0;34m,\u001b[0m\u001b[0;34m'.pdf'\u001b[0m\u001b[0;34m)\u001b[0m\u001b[0;34m\u001b[0m\u001b[0;34m\u001b[0m\u001b[0m\n\u001b[1;32m      8\u001b[0m ps.print_sheet1(basin,period=period,\n\u001b[0;32m----> 9\u001b[0;31m                 output=output,units=str_unit,data=average_file)\n\u001b[0m",
      "\u001b[0;32m~/Amman_zarqa_run/Scripts/WAsheets_jordan/print_sheet_cwa.py\u001b[0m in \u001b[0;36mprint_sheet1\u001b[0;34m(basin, period, units, data, output, template, smart_unit)\u001b[0m\n\u001b[1;32m    117\u001b[0m \u001b[0;34m\u001b[0m\u001b[0m\n\u001b[1;32m    118\u001b[0m     et_l_pr = float(df_o.loc[(df_o.SUBCLASS == \"ET LANDSCAPE\") &\n\u001b[0;32m--> 119\u001b[0;31m                              (df_o.VARIABLE == \"Protected\")].VALUE)\n\u001b[0m\u001b[1;32m    120\u001b[0m     et_l_ut = float(df_o.loc[(df_o.SUBCLASS == \"ET LANDSCAPE\") &\n\u001b[1;32m    121\u001b[0m                              (df_o.VARIABLE == \"Utilized\")].VALUE)\n",
      "\u001b[0;32m~/.conda/envs/wa_env/lib/python3.7/site-packages/pandas/core/series.py\u001b[0m in \u001b[0;36mwrapper\u001b[0;34m(self)\u001b[0m\n\u001b[1;32m    127\u001b[0m         \u001b[0;32mif\u001b[0m \u001b[0mlen\u001b[0m\u001b[0;34m(\u001b[0m\u001b[0mself\u001b[0m\u001b[0;34m)\u001b[0m \u001b[0;34m==\u001b[0m \u001b[0;36m1\u001b[0m\u001b[0;34m:\u001b[0m\u001b[0;34m\u001b[0m\u001b[0;34m\u001b[0m\u001b[0m\n\u001b[1;32m    128\u001b[0m             \u001b[0;32mreturn\u001b[0m \u001b[0mconverter\u001b[0m\u001b[0;34m(\u001b[0m\u001b[0mself\u001b[0m\u001b[0;34m.\u001b[0m\u001b[0miloc\u001b[0m\u001b[0;34m[\u001b[0m\u001b[0;36m0\u001b[0m\u001b[0;34m]\u001b[0m\u001b[0;34m)\u001b[0m\u001b[0;34m\u001b[0m\u001b[0;34m\u001b[0m\u001b[0m\n\u001b[0;32m--> 129\u001b[0;31m         \u001b[0;32mraise\u001b[0m \u001b[0mTypeError\u001b[0m\u001b[0;34m(\u001b[0m\u001b[0;34mf\"cannot convert the series to {converter}\"\u001b[0m\u001b[0;34m)\u001b[0m\u001b[0;34m\u001b[0m\u001b[0;34m\u001b[0m\u001b[0m\n\u001b[0m\u001b[1;32m    130\u001b[0m \u001b[0;34m\u001b[0m\u001b[0m\n\u001b[1;32m    131\u001b[0m     \u001b[0mwrapper\u001b[0m\u001b[0;34m.\u001b[0m\u001b[0m__name__\u001b[0m \u001b[0;34m=\u001b[0m \u001b[0;34mf\"__{converter.__name__}__\"\u001b[0m\u001b[0;34m\u001b[0m\u001b[0;34m\u001b[0m\u001b[0m\n",
      "\u001b[0;31mTypeError\u001b[0m: cannot convert the series to <class 'float'>"
     ]
    }
   ],
   "source": [
    "period= '2018-2021'\n",
    "\n",
    "str_unit='m3/year'\n",
    "\n",
    "basin = 'Amman_zarqa'\n",
    "\n",
    "output=average_file.replace('.csv','.pdf')\n",
    "ps.print_sheet1(basin,period=period,\n",
    "                output=output,units=str_unit,data=average_file)"
   ]
  },
  {
   "cell_type": "code",
   "execution_count": null,
   "id": "fb187cf1-cf27-4e6a-b0d7-c5271f813199",
   "metadata": {},
   "outputs": [],
   "source": []
  }
 ],
 "metadata": {
  "kernelspec": {
   "display_name": "Python 3 (ipykernel)",
   "language": "python",
   "name": "python3"
  },
  "language_info": {
   "codemirror_mode": {
    "name": "ipython",
    "version": 3
   },
   "file_extension": ".py",
   "mimetype": "text/x-python",
   "name": "python",
   "nbconvert_exporter": "python",
   "pygments_lexer": "ipython3",
   "version": "3.7.7"
  }
 },
 "nbformat": 4,
 "nbformat_minor": 5
}
