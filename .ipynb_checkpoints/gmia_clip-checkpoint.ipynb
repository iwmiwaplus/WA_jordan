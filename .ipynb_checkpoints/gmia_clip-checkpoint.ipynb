{
 "cells": [
  {
   "cell_type": "code",
   "execution_count": 1,
   "id": "c37546e2-b909-432c-83db-c57b314dbf03",
   "metadata": {},
   "outputs": [],
   "source": [
    "import os"
   ]
  },
  {
   "cell_type": "code",
   "execution_count": 2,
   "id": "277f0eb1-70fd-4a5a-ae2f-e40ad84223d3",
   "metadata": {},
   "outputs": [],
   "source": [
    "shp = r'/efs/CWA/static_datasets/shapefile/Africa_adm0_buffer.shp'\n",
    "inRaster = r'/efs/CWA/static_datasets/AEISW/gmia_v5_aei_pct_asc/gmia_v5_aei_pct.tif'\n",
    "outRaster = r'/efs/CWA/static_datasets/AEISW/gmia_v5_aei_pct_clip.tif'"
   ]
  },
  {
   "cell_type": "code",
   "execution_count": 3,
   "id": "705972c5-b539-496e-a685-8c625fc50d12",
   "metadata": {},
   "outputs": [
    {
     "name": "stderr",
     "output_type": "stream",
     "text": [
      "ERROR 4: /home/iwmi-wa/efs/CWA/static_datasets/AEISW/gmia_v5_aei_pct_asc/gmia_v5_aei_pct.tif: No such file or directory\n"
     ]
    },
    {
     "data": {
      "text/plain": [
       "512"
      ]
     },
     "execution_count": 3,
     "metadata": {},
     "output_type": "execute_result"
    }
   ],
   "source": [
    "cmd = 'gdalwarp -q -cutline %s -crop_to_cutline %s %s' % (shp, inRaster, outRaster)\n",
    "os.system(cmd)"
   ]
  },
  {
   "cell_type": "code",
   "execution_count": null,
   "id": "813ffc88-89c7-46e5-a2ed-834151f1c3b3",
   "metadata": {},
   "outputs": [],
   "source": []
  }
 ],
 "metadata": {
  "kernelspec": {
   "display_name": "Python 3 (ipykernel)",
   "language": "python",
   "name": "python3"
  },
  "language_info": {
   "codemirror_mode": {
    "name": "ipython",
    "version": 3
   },
   "file_extension": ".py",
   "mimetype": "text/x-python",
   "name": "python",
   "nbconvert_exporter": "python",
   "pygments_lexer": "ipython3",
   "version": "3.7.7"
  }
 },
 "nbformat": 4,
 "nbformat_minor": 5
}
