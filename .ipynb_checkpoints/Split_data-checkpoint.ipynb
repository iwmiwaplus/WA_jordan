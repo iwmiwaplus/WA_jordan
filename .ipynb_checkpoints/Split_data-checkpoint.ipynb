{
 "cells": [
  {
   "cell_type": "code",
   "execution_count": 2,
   "id": "1c1b6d8f-f6c5-467c-a704-c0b6f7158b19",
   "metadata": {},
   "outputs": [
    {
     "name": "stdout",
     "output_type": "stream",
     "text": [
      "Files have been organized into the specified folders with folder structure maintained.\n"
     ]
    }
   ],
   "source": [
    "import os\n",
    "import shutil\n",
    "import re\n",
    "\n",
    "# Function to extract the date from a TIF file name\n",
    "def extract_date(filename):\n",
    "    match = re.search(r'(\\d{4}\\.\\d{2}\\.\\d{2})', filename)\n",
    "    if match:\n",
    "        return match.group(1)\n",
    "    else:\n",
    "        return None\n",
    "\n",
    "# Function to determine the destination folders based on the date\n",
    "def get_destination_folders(date):\n",
    "    year = int(date.split('.')[0])\n",
    "    folders = []\n",
    "    if 2003 <= year <= 2007:\n",
    "        folders.append(\"2003_2007\")\n",
    "    if 2007 <= year <= 2011:\n",
    "        folders.append(\"2007_2011\")\n",
    "    if 2011 <= year <= 2015:\n",
    "        folders.append(\"2011_2015\")\n",
    "    if 2015 <= year <= 2019:\n",
    "        folders.append(\"2015_2019\")\n",
    "    if 2019 <= year <= 2021:\n",
    "        folders.append(\"2019_2021\")\n",
    "    return folders\n",
    "\n",
    "# Specify the source folder\n",
    "source_folder = r\"/efs/CWA/rs_input_tifs\"\n",
    "\n",
    "# Specify the destination folder\n",
    "destination_root = r\"/efs/CWA/rs_input_20yrs\"\n",
    "\n",
    "# Recursively process files in the source folder\n",
    "for root, _, files in os.walk(source_folder):\n",
    "    for filename in files:\n",
    "        if filename.lower().endswith((\".tif\", \".tiff\")):\n",
    "            date = extract_date(filename)\n",
    "            if date:\n",
    "                destination_folders = get_destination_folders(date)\n",
    "                source_path = os.path.join(root, filename)\n",
    "                for folder in destination_folders:\n",
    "                    destination_path = os.path.join(destination_root, folder, os.path.relpath(root, source_folder), filename)\n",
    "                    os.makedirs(os.path.dirname(destination_path), exist_ok=True)\n",
    "                    shutil.copy(source_path, destination_path)\n",
    "\n",
    "print(\"Files have been organized into the specified folders with folder structure maintained.\")\n"
   ]
  },
  {
   "cell_type": "code",
   "execution_count": null,
   "id": "14096203-25da-4507-88c8-2b5980c49c61",
   "metadata": {},
   "outputs": [],
   "source": []
  }
 ],
 "metadata": {
  "kernelspec": {
   "display_name": "Python 3 (ipykernel)",
   "language": "python",
   "name": "python3"
  },
  "language_info": {
   "codemirror_mode": {
    "name": "ipython",
    "version": 3
   },
   "file_extension": ".py",
   "mimetype": "text/x-python",
   "name": "python",
   "nbconvert_exporter": "python",
   "pygments_lexer": "ipython3",
   "version": "3.7.7"
  }
 },
 "nbformat": 4,
 "nbformat_minor": 5
}
