{
 "cells": [
  {
   "cell_type": "code",
   "execution_count": 5,
   "id": "aef892af-4526-4ad9-b5cc-c7e26f07447b",
   "metadata": {},
   "outputs": [
    {
     "name": "stdout",
     "output_type": "stream",
     "text": [
      "Results saved to /efs/CWA/rs_inputs_3ys/LU/CCILCV2_2003.csv\n"
     ]
    }
   ],
   "source": [
    "import gdal\n",
    "import numpy as np\n",
    "import csv\n",
    "import pyproj\n",
    "\n",
    "# Specify your input GeoTIFF file\n",
    "input_geotiff = '/efs/CWA/rs_inputs_3ys/LU/CCILCV2_2003.01.01.tif'\n",
    "output_csv_file = '/efs/CWA/rs_inputs_3ys/LU/CCILCV2_2003.csv'  # Specify the path to the output CSV file\n",
    "\n",
    "# Open the GeoTIFF file\n",
    "dataset = gdal.Open(input_geotiff)\n",
    "\n",
    "if dataset is None:\n",
    "    print(\"Error: Unable to open the GeoTIFF file.\")\n",
    "    exit(1)\n",
    "\n",
    "# Read the raster data into a NumPy array\n",
    "raster_band = dataset.GetRasterBand(1)\n",
    "raster_array = raster_band.ReadAsArray()\n",
    "\n",
    "# Get unique DN values as classes\n",
    "unique_classes = np.unique(raster_array)\n",
    "\n",
    "# Initialize a dictionary to store class information\n",
    "class_info = {}\n",
    "\n",
    "# Get the GeoTransform information\n",
    "geo_transform = dataset.GetGeoTransform()\n",
    "\n",
    "# Create a PyProj projection for WGS84\n",
    "wgs84 = pyproj.Proj(init='epsg:4326')\n",
    "\n",
    "# Define a projected coordinate system for WGS84 in meters\n",
    "wgs84_meters = pyproj.Proj(proj='utm', zone=33, datum='WGS84', units='m')\n",
    "\n",
    "# Loop through unique DN values and calculate statistics for each class\n",
    "for class_value in unique_classes:\n",
    "    class_name = class_value  # Class names based on DN values\n",
    "    class_mask = (raster_array == class_value)\n",
    "    num_pixels = np.sum(class_mask)\n",
    "\n",
    "    # Calculate the area in square meters\n",
    "    x_size = geo_transform[1]\n",
    "    y_size = geo_transform[5]\n",
    "    area_degrees = num_pixels * x_size * y_size\n",
    "\n",
    "    # Project the area to meters using PyProj\n",
    "    area_meters = pyproj.transform(wgs84, wgs84_meters, geo_transform[0], geo_transform[3])\n",
    "    area_meters = area_degrees * (area_meters[0] - geo_transform[0])\n",
    "\n",
    "    # Calculate the percentage\n",
    "    total_pixels = raster_array.size\n",
    "    percentage = (num_pixels / total_pixels) * 100\n",
    "\n",
    "    class_info[class_name] = {\n",
    "        \"Num_Pixels\": num_pixels,\n",
    "        \"Area_m2\": area_meters,\n",
    "        \"Percentage\": percentage,\n",
    "    }\n",
    "\n",
    "# Close the dataset\n",
    "dataset = None\n",
    "\n",
    "# Write the results to a CSV file\n",
    "with open(output_csv_file, 'w', newline='') as csv_file:\n",
    "    fieldnames = [\"Class\", \"Num_Pixels\", \"Area_m2\", \"Percentage\"]\n",
    "    writer = csv.DictWriter(csv_file, fieldnames=fieldnames)\n",
    "\n",
    "    writer.writeheader()\n",
    "    for class_name, info in class_info.items():\n",
    "        info[\"Class\"] = class_name\n",
    "        writer.writerow(info)\n",
    "\n",
    "print(f\"Results saved to {output_csv_file}\")\n"
   ]
  },
  {
   "cell_type": "code",
   "execution_count": null,
   "id": "7d1dca36-34f8-474d-b60a-05630c3b2e91",
   "metadata": {},
   "outputs": [],
   "source": []
  }
 ],
 "metadata": {
  "kernelspec": {
   "display_name": "Python 3 (ipykernel)",
   "language": "python",
   "name": "python3"
  },
  "language_info": {
   "codemirror_mode": {
    "name": "ipython",
    "version": 3
   },
   "file_extension": ".py",
   "mimetype": "text/x-python",
   "name": "python",
   "nbconvert_exporter": "python",
   "pygments_lexer": "ipython3",
   "version": "3.7.7"
  }
 },
 "nbformat": 4,
 "nbformat_minor": 5
}
