{
 "cells": [
  {
   "cell_type": "code",
   "execution_count": 2,
   "id": "c93ff167-f794-4542-9f86-7204ca0436a9",
   "metadata": {},
   "outputs": [
    {
     "ename": "CPLE_OpenFailedError",
     "evalue": "Attempt to create new tiff file '/home/iwmi-wa/Jordan/Input_tifs/LCC/L2_LCC_A_clip/L2_LCC_A_WAPOR_YEAR_2020.01.01.tif' failed: No such file or directory",
     "output_type": "error",
     "traceback": [
      "\u001b[0;31m---------------------------------------------------------------------------\u001b[0m",
      "\u001b[0;31mCPLE_OpenFailedError\u001b[0m                      Traceback (most recent call last)",
      "\u001b[0;32m/tmp/ipykernel_4877/3381908280.py\u001b[0m in \u001b[0;36m<module>\u001b[0;34m\u001b[0m\n\u001b[1;32m     54\u001b[0m \u001b[0;34m\u001b[0m\u001b[0m\n\u001b[1;32m     55\u001b[0m \u001b[0;32mif\u001b[0m \u001b[0m__name__\u001b[0m \u001b[0;34m==\u001b[0m \u001b[0;34m\"__main__\"\u001b[0m\u001b[0;34m:\u001b[0m\u001b[0;34m\u001b[0m\u001b[0;34m\u001b[0m\u001b[0m\n\u001b[0;32m---> 56\u001b[0;31m     \u001b[0mclip_tiffs\u001b[0m\u001b[0;34m(\u001b[0m\u001b[0minput_folder\u001b[0m\u001b[0;34m,\u001b[0m \u001b[0moutput_folder\u001b[0m\u001b[0;34m,\u001b[0m \u001b[0mshapefile_path\u001b[0m\u001b[0;34m)\u001b[0m\u001b[0;34m\u001b[0m\u001b[0;34m\u001b[0m\u001b[0m\n\u001b[0m",
      "\u001b[0;32m/tmp/ipykernel_4877/3381908280.py\u001b[0m in \u001b[0;36mclip_tiffs\u001b[0;34m(input_dir, output_dir, shapefile_path)\u001b[0m\n\u001b[1;32m     50\u001b[0m                 )\n\u001b[1;32m     51\u001b[0m \u001b[0;34m\u001b[0m\u001b[0m\n\u001b[0;32m---> 52\u001b[0;31m                 \u001b[0;32mwith\u001b[0m \u001b[0mrasterio\u001b[0m\u001b[0;34m.\u001b[0m\u001b[0mopen\u001b[0m\u001b[0;34m(\u001b[0m\u001b[0moutput_tif_path\u001b[0m\u001b[0;34m,\u001b[0m \u001b[0;34m\"w\"\u001b[0m\u001b[0;34m,\u001b[0m \u001b[0;34m**\u001b[0m\u001b[0mout_meta\u001b[0m\u001b[0;34m)\u001b[0m \u001b[0;32mas\u001b[0m \u001b[0mdst\u001b[0m\u001b[0;34m:\u001b[0m\u001b[0;34m\u001b[0m\u001b[0;34m\u001b[0m\u001b[0m\n\u001b[0m\u001b[1;32m     53\u001b[0m                     \u001b[0mdst\u001b[0m\u001b[0;34m.\u001b[0m\u001b[0mwrite\u001b[0m\u001b[0;34m(\u001b[0m\u001b[0mout_image\u001b[0m\u001b[0;34m)\u001b[0m\u001b[0;34m\u001b[0m\u001b[0;34m\u001b[0m\u001b[0m\n\u001b[1;32m     54\u001b[0m \u001b[0;34m\u001b[0m\u001b[0m\n",
      "\u001b[0;32m~/.conda/envs/wa_env/lib/python3.7/site-packages/rasterio/env.py\u001b[0m in \u001b[0;36mwrapper\u001b[0;34m(*args, **kwds)\u001b[0m\n\u001b[1;32m    421\u001b[0m \u001b[0;34m\u001b[0m\u001b[0m\n\u001b[1;32m    422\u001b[0m         \u001b[0;32mwith\u001b[0m \u001b[0menv_ctor\u001b[0m\u001b[0;34m(\u001b[0m\u001b[0msession\u001b[0m\u001b[0;34m=\u001b[0m\u001b[0msession\u001b[0m\u001b[0;34m)\u001b[0m\u001b[0;34m:\u001b[0m\u001b[0;34m\u001b[0m\u001b[0;34m\u001b[0m\u001b[0m\n\u001b[0;32m--> 423\u001b[0;31m             \u001b[0;32mreturn\u001b[0m \u001b[0mf\u001b[0m\u001b[0;34m(\u001b[0m\u001b[0;34m*\u001b[0m\u001b[0margs\u001b[0m\u001b[0;34m,\u001b[0m \u001b[0;34m**\u001b[0m\u001b[0mkwds\u001b[0m\u001b[0;34m)\u001b[0m\u001b[0;34m\u001b[0m\u001b[0;34m\u001b[0m\u001b[0m\n\u001b[0m\u001b[1;32m    424\u001b[0m \u001b[0;34m\u001b[0m\u001b[0m\n\u001b[1;32m    425\u001b[0m     \u001b[0;32mreturn\u001b[0m \u001b[0mwrapper\u001b[0m\u001b[0;34m\u001b[0m\u001b[0;34m\u001b[0m\u001b[0m\n",
      "\u001b[0;32m~/.conda/envs/wa_env/lib/python3.7/site-packages/rasterio/__init__.py\u001b[0m in \u001b[0;36mopen\u001b[0;34m(fp, mode, driver, width, height, count, crs, transform, dtype, nodata, sharing, **kwargs)\u001b[0m\n\u001b[1;32m    223\u001b[0m                                               \u001b[0mtransform\u001b[0m\u001b[0;34m=\u001b[0m\u001b[0mtransform\u001b[0m\u001b[0;34m,\u001b[0m\u001b[0;34m\u001b[0m\u001b[0;34m\u001b[0m\u001b[0m\n\u001b[1;32m    224\u001b[0m                                               \u001b[0mdtype\u001b[0m\u001b[0;34m=\u001b[0m\u001b[0mdtype\u001b[0m\u001b[0;34m,\u001b[0m \u001b[0mnodata\u001b[0m\u001b[0;34m=\u001b[0m\u001b[0mnodata\u001b[0m\u001b[0;34m,\u001b[0m\u001b[0;34m\u001b[0m\u001b[0;34m\u001b[0m\u001b[0m\n\u001b[0;32m--> 225\u001b[0;31m                                               **kwargs)\n\u001b[0m\u001b[1;32m    226\u001b[0m         \u001b[0;32melse\u001b[0m\u001b[0;34m:\u001b[0m\u001b[0;34m\u001b[0m\u001b[0;34m\u001b[0m\u001b[0m\n\u001b[1;32m    227\u001b[0m             raise ValueError(\n",
      "\u001b[0;32mrasterio/_io.pyx\u001b[0m in \u001b[0;36mrasterio._io.DatasetWriterBase.__init__\u001b[0;34m()\u001b[0m\n",
      "\u001b[0;32mrasterio/_err.pyx\u001b[0m in \u001b[0;36mrasterio._err.exc_wrap_pointer\u001b[0;34m()\u001b[0m\n",
      "\u001b[0;31mCPLE_OpenFailedError\u001b[0m: Attempt to create new tiff file '/home/iwmi-wa/Jordan/Input_tifs/LCC/L2_LCC_A_clip/L2_LCC_A_WAPOR_YEAR_2020.01.01.tif' failed: No such file or directory"
     ]
    }
   ],
   "source": [
    "import os\n",
    "import geopandas as gpd\n",
    "import rasterio\n",
    "from rasterio.mask import mask\n",
    "from shapely.geometry import mapping\n",
    "import shutil\n",
    "\n",
    "# Define the input folder containing your folder structure with TIFFs\n",
    "input_folder = r'/home/iwmi-wa/Jordan/Input_tifs/LCC/L2_LCC_A/'\n",
    "\n",
    "# Define the output folder where clipped TIFFs will be saved with the same structure\n",
    "output_folder = r'/home/iwmi-wa/Jordan/Input_tifs/LCC/L2_LCC_A_clip/'\n",
    "\n",
    "if not os.path.exists(output_folder):\n",
    "    os.makedirs(output_folder)\n",
    "\n",
    "# Define the path to the shapefile you want to use for clipping\n",
    "shapefile_path = r\"/home/iwmi-wa/Jordan/Shape_files/jordan_buffer_10.shp\"\n",
    "\n",
    "# Function to create the same folder structure in the output directory\n",
    "def create_output_folder_structure(input_dir, output_dir):\n",
    "    for root, dirs, files in os.walk(input_dir):\n",
    "        for dir_name in dirs:\n",
    "            input_subfolder = os.path.join(root, dir_name)\n",
    "            output_subfolder = input_subfolder.replace(input_dir, output_dir)\n",
    "            os.makedirs(output_subfolder, exist_ok=True)\n",
    "\n",
    "# Clip TIFFs to the specified shapefile and save them in the output folder\n",
    "def clip_tiffs(input_dir, output_dir, shapefile_path):\n",
    "    create_output_folder_structure(input_dir, output_dir)\n",
    "    shapefile = gpd.read_file(shapefile_path)\n",
    "\n",
    "    for root, dirs, files in os.walk(input_dir):\n",
    "        for file_name in files:\n",
    "            if file_name.lower().endswith((\".tif\", \".tiff\")):\n",
    "                input_tif_path = os.path.join(root, file_name)\n",
    "                output_tif_path = input_tif_path.replace(input_dir, output_dir)\n",
    "\n",
    "                with rasterio.open(input_tif_path) as src:\n",
    "                    out_image, out_transform = mask(\n",
    "                        src, [mapping(shapefile.iloc[0].geometry)], crop=True, filled=False\n",
    "                    )\n",
    "                    out_meta = src.meta.copy()\n",
    "\n",
    "                out_meta.update(\n",
    "                    {\n",
    "                        \"driver\": \"GTiff\",\n",
    "                        \"height\": out_image.shape[1],\n",
    "                        \"width\": out_image.shape[2],\n",
    "                        \"transform\": out_transform,\n",
    "                        'compress': 'LZW'\n",
    "                    }\n",
    "                )\n",
    "\n",
    "                with rasterio.open(output_tif_path, \"w\", **out_meta) as dst:\n",
    "                    dst.write(out_image)\n",
    "\n",
    "if __name__ == \"__main__\":\n",
    "    clip_tiffs(input_folder, output_folder, shapefile_path)\n"
   ]
  },
  {
   "cell_type": "code",
   "execution_count": null,
   "id": "61fa38d6-2f10-46e9-b3aa-105409ece090",
   "metadata": {},
   "outputs": [],
   "source": []
  }
 ],
 "metadata": {
  "kernelspec": {
   "display_name": "Python 3 (ipykernel)",
   "language": "python",
   "name": "python3"
  },
  "language_info": {
   "codemirror_mode": {
    "name": "ipython",
    "version": 3
   },
   "file_extension": ".py",
   "mimetype": "text/x-python",
   "name": "python",
   "nbconvert_exporter": "python",
   "pygments_lexer": "ipython3",
   "version": "3.7.7"
  }
 },
 "nbformat": 4,
 "nbformat_minor": 5
}
