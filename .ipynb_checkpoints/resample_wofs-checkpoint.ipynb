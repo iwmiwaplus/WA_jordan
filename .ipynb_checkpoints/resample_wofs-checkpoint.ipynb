{
 "cells": [
  {
   "cell_type": "markdown",
   "id": "81b3e57e-d62a-45ba-a3df-766d9ea4e32a",
   "metadata": {},
   "source": [
    "## Resample wofs"
   ]
  },
  {
   "cell_type": "code",
   "execution_count": 1,
   "id": "4030f7f7-d3cf-4fe0-adea-a28fefff11a7",
   "metadata": {},
   "outputs": [],
   "source": [
    "import os\n",
    "import rasterio\n",
    "import numpy as np\n",
    "import glob\n",
    "from tqdm import tqdm"
   ]
  },
  {
   "cell_type": "code",
   "execution_count": 2,
   "id": "daf53488-2a33-4cbd-9ce7-709bc25d0456",
   "metadata": {},
   "outputs": [],
   "source": [
    "path = r'/efs/CWA/rs_input_tifs/wofs_filter2'\n",
    "# template_path = r'/efs/CWA/rs_input_tifs/ET/MOD16/ET_MOD16A2_mm-8days-1_monthly_2003.01.01.tif'\n",
    "template_path = r'/efs/CWA/rs_input_tifs/wofs_filter2/wofs_annual_Africa_250m_2012.01.01.tif'\n",
    "save_location = r'/efs/CWA/rs_input_tifs/wofs_resample'"
   ]
  },
  {
   "cell_type": "code",
   "execution_count": 3,
   "id": "62a8adbc-df31-40cb-abbb-beb39727d518",
   "metadata": {},
   "outputs": [],
   "source": [
    "fhs = glob.glob(os.path.join(path, '*.tif'))"
   ]
  },
  {
   "cell_type": "code",
   "execution_count": 4,
   "id": "0608b253-302e-4688-90d0-0e7af5a069d3",
   "metadata": {},
   "outputs": [],
   "source": [
    "ref_img = rasterio.open(template_path)\n",
    "# data = dataset.read(1)\n",
    "# profile = {'driver': 'GTiff', 'dtype': 'float32', 'nodata': -9999, 'width':dataset.shape[1],                   \n",
    "#            'height':dataset.shape[0] , 'count': 1, 'crs': dataset.crs, 'transform': dataset.transform,\n",
    "#            'compress':'lzw', 'num_threads':'all_cpus', 'blockxsize':128, 'blockysize':128, 'tiled':True}"
   ]
  },
  {
   "cell_type": "code",
   "execution_count": 6,
   "id": "8113b56f-baae-4e0a-b0de-868992049527",
   "metadata": {},
   "outputs": [
    {
     "name": "stdout",
     "output_type": "stream",
     "text": [
      "1000 1000\n"
     ]
    }
   ],
   "source": [
    "transform = ref_img.transform\n",
    "px_w = 1000\n",
    "px_h = 1000\n",
    "print(px_w, px_h)"
   ]
  },
  {
   "cell_type": "code",
   "execution_count": 7,
   "id": "a84e3d4b-a234-45f3-b3c0-11a5ae987a4a",
   "metadata": {},
   "outputs": [
    {
     "name": "stdout",
     "output_type": "stream",
     "text": [
      "Creating output file that is 8765P x 6891L.\n",
      "Processing /efs/CWA/rs_input_tifs/wofs_filter2/wofs_annual_Africa_250m_2012.01.01.tif [1/1] : 0Using internal nodata values (e.g. -9999) for image /efs/CWA/rs_input_tifs/wofs_filter2/wofs_annual_Africa_250m_2012.01.01.tif.\n",
      "Copying nodata values from source /efs/CWA/rs_input_tifs/wofs_filter2/wofs_annual_Africa_250m_2012.01.01.tif to destination /efs/CWA/rs_input_tifs/wofs_resample/wofs_annual_Africa_250m_2012.01.01.tif.\n",
      "...10...20...30...40...50...60...70...80...90...100 - done.\n",
      "Creating output file that is 8765P x 6891L.\n",
      "Processing /efs/CWA/rs_input_tifs/wofs_filter2/wofs_annual_Africa_250m_2021.01.01.tif [1/1] : 0Using internal nodata values (e.g. -9999) for image /efs/CWA/rs_input_tifs/wofs_filter2/wofs_annual_Africa_250m_2021.01.01.tif.\n",
      "Copying nodata values from source /efs/CWA/rs_input_tifs/wofs_filter2/wofs_annual_Africa_250m_2021.01.01.tif to destination /efs/CWA/rs_input_tifs/wofs_resample/wofs_annual_Africa_250m_2021.01.01.tif.\n",
      "...10...20...30...40...50...60...70...80...90...100 - done.\n"
     ]
    }
   ],
   "source": [
    "for fh in sorted(fhs):\n",
    "    fname = fh.split('/')[-1]\n",
    "    output_tif = os.path.join(save_location, fname)\n",
    "    cmd = 'gdalwarp -tr {} {} -r near {} {}'.format(px_w, px_h, fh, output_tif)\n",
    "    os.system(cmd)\n",
    "    # print(output_tif)"
   ]
  },
  {
   "cell_type": "code",
   "execution_count": 25,
   "id": "b59acaf8-3ef7-415e-a03f-c6086868d011",
   "metadata": {},
   "outputs": [
    {
     "data": {
      "text/plain": [
       "'/efs/CWA/rs_input_tifs/wofs_filter2/wofs_annual_Africa_250m_2021.01.01.tif'"
      ]
     },
     "execution_count": 25,
     "metadata": {},
     "output_type": "execute_result"
    }
   ],
   "source": [
    "fname"
   ]
  },
  {
   "cell_type": "markdown",
   "id": "0bdef32a-cf90-4317-a118-7c87ebd4bf0f",
   "metadata": {},
   "source": [
    "## wofs info"
   ]
  },
  {
   "cell_type": "code",
   "execution_count": 2,
   "id": "b052f3a7-87d6-4556-812f-6c8458a83b94",
   "metadata": {},
   "outputs": [],
   "source": [
    "from osgeo import gdal\n",
    "path = '/efs/CWA/rs_input_tifs/wofs/wofs_annual_Africa_250m_2000.01.01.tif'"
   ]
  },
  {
   "cell_type": "code",
   "execution_count": 14,
   "id": "908a86d2-c530-4848-920c-3e069c894ec0",
   "metadata": {},
   "outputs": [
    {
     "data": {
      "text/plain": [
       "osgeo.gdal.Dataset"
      ]
     },
     "execution_count": 14,
     "metadata": {},
     "output_type": "execute_result"
    }
   ],
   "source": [
    "# Open the file:\n",
    "raster = gdal.Open(path)\n",
    "\n",
    "# Check type of the variable 'raster'\n",
    "type(raster)"
   ]
  },
  {
   "cell_type": "code",
   "execution_count": 15,
   "id": "e05ac5c9-6d2b-4421-91b2-ed3a9d09cec0",
   "metadata": {},
   "outputs": [
    {
     "data": {
      "text/plain": [
       "'PROJCS[\"WGS 84 / NSIDC EASE-Grid 2.0 Global\",GEOGCS[\"WGS 84\",DATUM[\"WGS_1984\",SPHEROID[\"WGS 84\",6378137,298.257223563,AUTHORITY[\"EPSG\",\"7030\"]],AUTHORITY[\"EPSG\",\"6326\"]],PRIMEM[\"Greenwich\",0,AUTHORITY[\"EPSG\",\"8901\"]],UNIT[\"degree\",0.0174532925199433,AUTHORITY[\"EPSG\",\"9122\"]],AUTHORITY[\"EPSG\",\"4326\"]],PROJECTION[\"Cylindrical_Equal_Area\"],PARAMETER[\"standard_parallel_1\",30],PARAMETER[\"central_meridian\",0],PARAMETER[\"false_easting\",0],PARAMETER[\"false_northing\",0],UNIT[\"metre\",1,AUTHORITY[\"EPSG\",\"9001\"]],AXIS[\"X\",EAST],AXIS[\"Y\",NORTH],AUTHORITY[\"EPSG\",\"6933\"]]'"
      ]
     },
     "execution_count": 15,
     "metadata": {},
     "output_type": "execute_result"
    }
   ],
   "source": [
    "# Projection\n",
    "raster.GetProjection()"
   ]
  },
  {
   "cell_type": "code",
   "execution_count": 16,
   "id": "0189e511-47b7-44c4-90a5-de1ad5f572ff",
   "metadata": {},
   "outputs": [
    {
     "data": {
      "text/plain": [
       "{'AREA_OR_POINT': 'Area'}"
      ]
     },
     "execution_count": 16,
     "metadata": {},
     "output_type": "execute_result"
    }
   ],
   "source": [
    "# Metadata for the raster dataset\n",
    "raster.GetMetadata()"
   ]
  },
  {
   "cell_type": "markdown",
   "id": "5a17a79e-0761-497c-b521-a900fd0b989e",
   "metadata": {},
   "source": [
    "## reproject wofs"
   ]
  },
  {
   "cell_type": "code",
   "execution_count": 1,
   "id": "2fb03a22-fba3-4145-86b1-854daf1b0c60",
   "metadata": {},
   "outputs": [],
   "source": [
    "from osgeo import gdal, osr\n",
    "from pyproj import Proj, transform\n",
    "import time\n",
    "import numpy as np"
   ]
  },
  {
   "cell_type": "code",
   "execution_count": 2,
   "id": "4b4e8819-6a21-4986-acb8-c9d438f32b0b",
   "metadata": {},
   "outputs": [],
   "source": [
    "def Save_as_tiff(name='', data='', geo='', projection=''):\n",
    "    \"\"\"\n",
    "    This function save the array as a geotiff\n",
    "\n",
    "    Keyword arguments:\n",
    "    name -- string, directory name\n",
    "    data -- [array], dataset of the geotiff\n",
    "    geo -- [minimum lon, pixelsize, rotation, maximum lat, rotation,\n",
    "            pixelsize], (geospatial dataset)\n",
    "    projection -- integer, the EPSG code\n",
    "    \"\"\"\n",
    "    \n",
    "    dir_name = os.path.dirname(name)\n",
    "    \n",
    "    if not os.path.exists(dir_name):\n",
    "        success = 0\n",
    "        while success == 0:\n",
    "            try:\n",
    "                os.makedirs(dir_name)\n",
    "                success = 1\n",
    "            except:\n",
    "                time.sleep(1)\n",
    "            \n",
    "    # save as a geotiff\n",
    "    driver = gdal.GetDriverByName(\"GTiff\")\n",
    "    dst_ds = driver.Create(name, int(data.shape[1]), int(data.shape[0]), 1, gdal.GDT_Float32, ['COMPRESS=LZW'])\n",
    "    srse = osr.SpatialReference()\n",
    "    if projection == '':\n",
    "        srse.SetWellKnownGeogCS(\"WGS84\")\n",
    "\n",
    "    else:\n",
    "        try:\n",
    "            if not srse.SetWellKnownGeogCS(projection) == 6:\n",
    "                srse.SetWellKnownGeogCS(projection)\n",
    "            else:\n",
    "                try:\n",
    "                    srse.ImportFromEPSG(int(projection))\n",
    "                except:\n",
    "                    srse.ImportFromWkt(projection)\n",
    "        except:\n",
    "            try:\n",
    "                srse.ImportFromEPSG(int(projection))\n",
    "            except:\n",
    "                srse.ImportFromWkt(projection)\n",
    "\n",
    "    dst_ds.SetProjection(srse.ExportToWkt())\n",
    "    dst_ds.GetRasterBand(1).SetNoDataValue(-9999)\n",
    "    dst_ds.SetGeoTransform(geo)\n",
    "    dst_ds.GetRasterBand(1).WriteArray(data)\n",
    "    dst_ds = None\n",
    "    return()"
   ]
  },
  {
   "cell_type": "code",
   "execution_count": 3,
   "id": "dee38f7d-e7fb-4f9a-994a-5def82ac4c7f",
   "metadata": {},
   "outputs": [],
   "source": [
    "def Get_epsg(g, extension = 'tiff'):\n",
    "    \"\"\"\n",
    "    This function reads the projection of a GEOGCS file or tiff file\n",
    "\n",
    "    Keyword arguments:\n",
    "    g -- string\n",
    "        Filename to the file that must be read\n",
    "    extension -- tiff or GEOGCS\n",
    "        Define the extension of the dataset (default is tiff)\n",
    "    \"\"\"\n",
    "    try:\n",
    "        if extension == 'tiff':\n",
    "            # Get info of the dataset that is used for transforming\n",
    "            if str(type(g)) != \"<class 'osgeo.gdal.Dataset'>\":\n",
    "                dest = gdal.Open(g)\n",
    "            else:\n",
    "                dest = g\n",
    "            g_proj = dest.GetProjection()\n",
    "            Projection=g_proj.split('EPSG\",\"')\n",
    "            epsg_to=int((str(Projection[-1]).split(']')[0])[0:-1])\n",
    "                \n",
    "        if extension == 'GEOGCS':\n",
    "            Projection = g\n",
    "            epsg_to=int((str(Projection).split('\"EPSG\",\"')[-1].split('\"')[0:-1])[0])\n",
    "        if extension == 'shp':\n",
    "            data = fiona.open(g)\n",
    "            epsg_to = int(data.crs['init'].split(\":\")[-1])\n",
    "            \n",
    "            '''\n",
    "            projection_file = ''.join([os.path.splitext(g)[0],'.prj'])\n",
    "            print(projection_file)\n",
    "            Projection = open(projection_file, 'r').read()\n",
    "            print(Projection)            \n",
    "            srs = osr.SpatialReference()\n",
    "            srs.SetFromUserInput(Projection)\n",
    "            epsg_to = srs.GetAttrValue(\"AUTHORITY\",1)\n",
    "            print(srs)\n",
    "            if epsg_to == None:\n",
    "                try:\n",
    "                    epsg_str = srs.GetAttrValue(\"PROJCS\", 0)        \n",
    "                    zone = epsg_str.split(\"_\")[-1][0:-1]\n",
    "                    NorS = str(epsg_str.split(\"_\")[-1][-1])\n",
    "                    if NorS == \"N\":\n",
    "                        SN = 6\n",
    "                    if NorS == \"S\":\n",
    "                        SN = 7   \n",
    "                    epsg_to = int(\"32%s%02s\" %(SN, zone))\n",
    "                    \n",
    "                except:       \n",
    "                    epsg_to=4326   \n",
    "            '''                    \n",
    "    except:\n",
    "        epsg_to=4326\n",
    "        #print 'Was not able to get the projection, so WGS84 is assumed'\n",
    "        \n",
    "    return(epsg_to)\n"
   ]
  },
  {
   "cell_type": "code",
   "execution_count": 4,
   "id": "3491d165-7085-4ee1-accd-30eb5983016e",
   "metadata": {},
   "outputs": [],
   "source": [
    "def reproject_dataset_epsg(output, dataset, pixel_spacing, epsg_to, method = 2):\n",
    "    \"\"\"\n",
    "    A sample function to reproject and resample a GDAL dataset from within\n",
    "    Python. The idea here is to reproject from one system to another, as well\n",
    "    as to change the pixel size. The procedure is slightly long-winded, but\n",
    "    goes like this:\n",
    "\n",
    "    1. Set up the two Spatial Reference systems.\n",
    "    2. Open the original dataset, and get the geotransform\n",
    "    3. Calculate bounds of new geotransform by projecting the UL corners\n",
    "    4. Calculate the number of pixels with the new projection & spacing\n",
    "    5. Create an in-memory raster dataset\n",
    "    6. Perform the projection\n",
    "\n",
    "    Keywords arguments:\n",
    "    dataset -- 'C:/file/to/path/file.tif'\n",
    "        string that defines the input tiff file\n",
    "    pixel_spacing -- float\n",
    "        Defines the pixel size of the output file\n",
    "    epsg_to -- integer\n",
    "         The EPSG code of the output dataset\n",
    "    method -- 1,2,3,4 default = 2\n",
    "        1 = Nearest Neighbour, 2 = Bilinear, 3 = lanzcos, 4 = average\n",
    "    \"\"\"\n",
    "    import watertools.General.data_conversions as DC\n",
    "\n",
    "    # 1) Open the dataset\n",
    "    try:\n",
    "        g = gdal.Open(dataset)\n",
    "        if g is None:\n",
    "            print('input folder does not exist')\n",
    "    except:\n",
    "        g = dataset\n",
    "        \n",
    "    # Get EPSG code\n",
    "    epsg_from = Get_epsg(g)\n",
    "\n",
    "    # Get the Geotransform vector:\n",
    "    geo_t = g.GetGeoTransform()\n",
    "    # Vector components:\n",
    "    # 0- The Upper Left easting coordinate (i.e., horizontal)\n",
    "    # 1- The E-W pixel spacing\n",
    "    # 2- The rotation (0 degrees if image is \"North Up\")\n",
    "    # 3- The Upper left northing coordinate (i.e., vertical)\n",
    "    # 4- The rotation (0 degrees)\n",
    "    # 5- The N-S pixel spacing, negative as it is counted from the UL corner\n",
    "    x_size = g.RasterXSize  # Raster xsize\n",
    "    y_size = g.RasterYSize  # Raster ysize\n",
    "\n",
    "    epsg_to = int(epsg_to)\n",
    "\n",
    "    # 2) Define the UK OSNG, see <http://spatialreference.org/ref/epsg/27700/>\n",
    "    osng = osr.SpatialReference()\n",
    "    osng.ImportFromEPSG(epsg_to)\n",
    "    wgs84 = osr.SpatialReference()\n",
    "    wgs84.ImportFromEPSG(epsg_from)\n",
    "\n",
    "    inProj = Proj(init='epsg:%d' %epsg_from)\n",
    "    outProj = Proj(init='epsg:%d' %epsg_to)\n",
    "\n",
    "    # Up to here, all  the projection have been defined, as well as a\n",
    "    # transformation from the from to the to\n",
    "    ulx, uly = transform(inProj,outProj,geo_t[0], geo_t[3])\n",
    "    lrx, lry = transform(inProj,outProj,geo_t[0] + geo_t[1] * x_size,\n",
    "                                        geo_t[3] + geo_t[5] * y_size)\n",
    "\n",
    "    # See how using 27700 and WGS84 introduces a z-value!\n",
    "    # Now, we create an in-memory raster\n",
    "    mem_drv = gdal.GetDriverByName('MEM')\n",
    "\n",
    "    # The size of the raster is given the new projection and pixel spacing\n",
    "    # Using the values we calculated above. Also, setting it to store one band\n",
    "    # and to use Float32 data type.\n",
    "    col = int(np.maximum(int(1), int(np.ceil((lrx - ulx)/pixel_spacing))))\n",
    "    rows = int(np.maximum(int(1), int(np.ceil((uly - lry)/pixel_spacing))))\n",
    "\n",
    "    # Re-define lr coordinates based on whole number or rows and columns\n",
    "    (lrx, lry) = (ulx + col * pixel_spacing, uly -\n",
    "                  rows * pixel_spacing)\n",
    "\n",
    "    dest = mem_drv.Create('', col, rows, 1, gdal.GDT_Float32)\n",
    "    dest_nan = mem_drv.Create('', col, rows, 1, gdal.GDT_Float32)\n",
    "    if dest is None:\n",
    "        print('input folder to large for memory, clip input map')\n",
    "\n",
    "   # Calculate the new geotransform\n",
    "    new_geo = (ulx, pixel_spacing, geo_t[2], uly,\n",
    "               geo_t[4], - pixel_spacing)\n",
    "\n",
    "    # Set the geotransform\n",
    "    dest.SetGeoTransform(new_geo)\n",
    "    dest.SetProjection(osng.ExportToWkt())\n",
    "    dest_nan.SetGeoTransform(new_geo)\n",
    "    dest_nan.SetProjection(osng.ExportToWkt())\n",
    "    \n",
    "    #\n",
    "    data_in = g.GetRasterBand(1).ReadAsArray()\n",
    "    data_in[np.isnan(data_in)] = -9999\n",
    "    data_nan = np.where(data_in == -9999, 0, 9999)\n",
    "    g_nan = DC.Save_as_MEM(data_nan, geo_t, epsg_from)\n",
    "\n",
    "    # Perform the projection/resampling\n",
    "    if method == 1:\n",
    "        gdal.ReprojectImage(g, dest, wgs84.ExportToWkt(), osng.ExportToWkt(),gdal.GRA_NearestNeighbour)\n",
    "    if method == 2:\n",
    "        gdal.ReprojectImage(g, dest, wgs84.ExportToWkt(), osng.ExportToWkt(),gdal.GRA_Bilinear)\n",
    "    if method == 3:\n",
    "        gdal.ReprojectImage(g, dest, wgs84.ExportToWkt(), osng.ExportToWkt(), gdal.GRA_Lanczos)\n",
    "    if method == 4:\n",
    "        gdal.ReprojectImage(g, dest, wgs84.ExportToWkt(), osng.ExportToWkt(), gdal.GRA_Average)\n",
    "        \n",
    "    gdal.ReprojectImage(g_nan, dest_nan, wgs84.ExportToWkt(), osng.ExportToWkt(), gdal.GRA_NearestNeighbour)\n",
    "    \n",
    "    data = dest.GetRasterBand(1).ReadAsArray()\n",
    "    data_nan = dest_nan.GetRasterBand(1).ReadAsArray() \n",
    "    data_end = np.where(data_nan != 9999, np.nan, data)\n",
    "    # dest_end = DC.Save_as_MEM(data_end, new_geo, epsg_to)\n",
    "    Save_as_tiff(output, data_end, new_geo, epsg_to)\n",
    "\n",
    "    return ()"
   ]
  },
  {
   "cell_type": "code",
   "execution_count": 5,
   "id": "cc5e69d8-58b2-4aee-8fb2-a2cab0989762",
   "metadata": {},
   "outputs": [
    {
     "name": "stderr",
     "output_type": "stream",
     "text": [
      "/home/iwmi-wa/anaconda3/envs/wa_env/lib/python3.7/site-packages/paramiko/transport.py:219: CryptographyDeprecationWarning: Blowfish has been deprecated\n",
      "  \"class\": algorithms.Blowfish,\n"
     ]
    },
    {
     "ename": "NameError",
     "evalue": "name 'np' is not defined",
     "output_type": "error",
     "traceback": [
      "\u001b[0;31m---------------------------------------------------------------------------\u001b[0m",
      "\u001b[0;31mNameError\u001b[0m                                 Traceback (most recent call last)",
      "\u001b[0;32m/tmp/ipykernel_1536/2879891112.py\u001b[0m in \u001b[0;36m<module>\u001b[0;34m\u001b[0m\n\u001b[1;32m      4\u001b[0m \u001b[0mepsg\u001b[0m \u001b[0;34m=\u001b[0m \u001b[0;36m4326\u001b[0m\u001b[0;34m\u001b[0m\u001b[0;34m\u001b[0m\u001b[0m\n\u001b[1;32m      5\u001b[0m \u001b[0;34m\u001b[0m\u001b[0m\n\u001b[0;32m----> 6\u001b[0;31m \u001b[0mreproject_dataset_epsg\u001b[0m\u001b[0;34m(\u001b[0m\u001b[0mtarget\u001b[0m\u001b[0;34m,\u001b[0m \u001b[0msource\u001b[0m\u001b[0;34m,\u001b[0m \u001b[0mpixel\u001b[0m\u001b[0;34m,\u001b[0m \u001b[0mepsg\u001b[0m\u001b[0;34m,\u001b[0m \u001b[0mmethod\u001b[0m\u001b[0;34m=\u001b[0m\u001b[0;36m1\u001b[0m\u001b[0;34m)\u001b[0m\u001b[0;34m\u001b[0m\u001b[0;34m\u001b[0m\u001b[0m\n\u001b[0m",
      "\u001b[0;32m/tmp/ipykernel_1536/1173910110.py\u001b[0m in \u001b[0;36mreproject_dataset_epsg\u001b[0;34m(output, dataset, pixel_spacing, epsg_to, method)\u001b[0m\n\u001b[1;32m     72\u001b[0m     \u001b[0;31m# Using the values we calculated above. Also, setting it to store one band\u001b[0m\u001b[0;34m\u001b[0m\u001b[0;34m\u001b[0m\u001b[0;34m\u001b[0m\u001b[0m\n\u001b[1;32m     73\u001b[0m     \u001b[0;31m# and to use Float32 data type.\u001b[0m\u001b[0;34m\u001b[0m\u001b[0;34m\u001b[0m\u001b[0;34m\u001b[0m\u001b[0m\n\u001b[0;32m---> 74\u001b[0;31m     \u001b[0mcol\u001b[0m \u001b[0;34m=\u001b[0m \u001b[0mint\u001b[0m\u001b[0;34m(\u001b[0m\u001b[0mnp\u001b[0m\u001b[0;34m.\u001b[0m\u001b[0mmaximum\u001b[0m\u001b[0;34m(\u001b[0m\u001b[0mint\u001b[0m\u001b[0;34m(\u001b[0m\u001b[0;36m1\u001b[0m\u001b[0;34m)\u001b[0m\u001b[0;34m,\u001b[0m \u001b[0mint\u001b[0m\u001b[0;34m(\u001b[0m\u001b[0mnp\u001b[0m\u001b[0;34m.\u001b[0m\u001b[0mceil\u001b[0m\u001b[0;34m(\u001b[0m\u001b[0;34m(\u001b[0m\u001b[0mlrx\u001b[0m \u001b[0;34m-\u001b[0m \u001b[0mulx\u001b[0m\u001b[0;34m)\u001b[0m\u001b[0;34m/\u001b[0m\u001b[0mpixel_spacing\u001b[0m\u001b[0;34m)\u001b[0m\u001b[0;34m)\u001b[0m\u001b[0;34m)\u001b[0m\u001b[0;34m)\u001b[0m\u001b[0;34m\u001b[0m\u001b[0;34m\u001b[0m\u001b[0m\n\u001b[0m\u001b[1;32m     75\u001b[0m     \u001b[0mrows\u001b[0m \u001b[0;34m=\u001b[0m \u001b[0mint\u001b[0m\u001b[0;34m(\u001b[0m\u001b[0mnp\u001b[0m\u001b[0;34m.\u001b[0m\u001b[0mmaximum\u001b[0m\u001b[0;34m(\u001b[0m\u001b[0mint\u001b[0m\u001b[0;34m(\u001b[0m\u001b[0;36m1\u001b[0m\u001b[0;34m)\u001b[0m\u001b[0;34m,\u001b[0m \u001b[0mint\u001b[0m\u001b[0;34m(\u001b[0m\u001b[0mnp\u001b[0m\u001b[0;34m.\u001b[0m\u001b[0mceil\u001b[0m\u001b[0;34m(\u001b[0m\u001b[0;34m(\u001b[0m\u001b[0muly\u001b[0m \u001b[0;34m-\u001b[0m \u001b[0mlry\u001b[0m\u001b[0;34m)\u001b[0m\u001b[0;34m/\u001b[0m\u001b[0mpixel_spacing\u001b[0m\u001b[0;34m)\u001b[0m\u001b[0;34m)\u001b[0m\u001b[0;34m)\u001b[0m\u001b[0;34m)\u001b[0m\u001b[0;34m\u001b[0m\u001b[0;34m\u001b[0m\u001b[0m\n\u001b[1;32m     76\u001b[0m \u001b[0;34m\u001b[0m\u001b[0m\n",
      "\u001b[0;31mNameError\u001b[0m: name 'np' is not defined"
     ]
    }
   ],
   "source": [
    "target = r'/efs/CWA/rs_input_tifs/wofs_resample/wofs_annual_Africa_250m_2000.01.01.tif'\n",
    "source = r'/efs/CWA/rs_input_tifs/wofs_mask/wofs_annual_Africa_250m_2000.01.01.tif'\n",
    "pixel = 0.00223\n",
    "epsg = 4326\n",
    "\n",
    "reproject_dataset_epsg(target, source, pixel, epsg, method=1)"
   ]
  },
  {
   "cell_type": "code",
   "execution_count": null,
   "id": "9e4f6356-bcd5-42f8-8c14-a88b306d9b5c",
   "metadata": {},
   "outputs": [],
   "source": []
  }
 ],
 "metadata": {
  "kernelspec": {
   "display_name": "Python 3 (ipykernel)",
   "language": "python",
   "name": "python3"
  },
  "language_info": {
   "codemirror_mode": {
    "name": "ipython",
    "version": 3
   },
   "file_extension": ".py",
   "mimetype": "text/x-python",
   "name": "python",
   "nbconvert_exporter": "python",
   "pygments_lexer": "ipython3",
   "version": "3.7.7"
  }
 },
 "nbformat": 4,
 "nbformat_minor": 5
}
