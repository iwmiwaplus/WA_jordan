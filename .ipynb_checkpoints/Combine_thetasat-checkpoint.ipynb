{
 "cells": [
  {
   "cell_type": "code",
   "execution_count": null,
   "id": "83ebc8ac-08f5-49b8-8101-7ad188290039",
   "metadata": {},
   "outputs": [],
   "source": [
    "import rasterio\n",
    "from rasterio.warp import reproject, Resampling\n",
    "import numpy as np\n",
    "\n",
    "# Primary and secondary input file paths\n",
    "primary_tif = r\"/efs/CWA/rs_inputs_3ys/ThetaSat/wscat_v2_2003.06.01.tif\"\n",
    "secondary_tif = r\"/efs/CWA/rs_input_tifs/ThetaSat/Thetasat_2021.06.01.tif\"\n",
    "output_tif = r\"/efs/CWA/rs_inputs_3ys/output.tif\"  # Output file path\n",
    "\n",
    "# Open the primary raster and read its metadata\n",
    "with rasterio.open(primary_tif) as primary_src:\n",
    "    profile = primary_src.profile\n",
    "    primary_nodata = primary_src.nodata\n",
    "    primary_data = primary_src.read(1)  # Read the first band (change the band index if needed)\n",
    "\n",
    "    # Open the secondary raster and read its data\n",
    "    with rasterio.open(secondary_tif) as secondary_src:\n",
    "        secondary_data = secondary_src.read(1)\n",
    "\n",
    "        # Replace nodata values in the primary with values from the secondary\n",
    "        primary_data[np.isnan(primary_data)] = secondary_data[np.isnan(primary_data)]\n",
    "\n",
    "# Write the modified data to a new raster file\n",
    "with rasterio.open(output_tif, 'w', **profile, compress='LZW') as dst:\n",
    "    dst.write(primary_data, 1)  # Write the modified data to the first band (change the band index if needed)\n"
   ]
  }
 ],
 "metadata": {
  "kernelspec": {
   "display_name": "Python 3 (ipykernel)",
   "language": "python",
   "name": "python3"
  },
  "language_info": {
   "codemirror_mode": {
    "name": "ipython",
    "version": 3
   },
   "file_extension": ".py",
   "mimetype": "text/x-python",
   "name": "python",
   "nbconvert_exporter": "python",
   "pygments_lexer": "ipython3",
   "version": "3.7.7"
  }
 },
 "nbformat": 4,
 "nbformat_minor": 5
}
