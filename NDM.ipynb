{
 "cells": [
  {
   "cell_type": "code",
   "execution_count": 1,
   "id": "cb70b1fa-4c77-4568-a3ce-21a2e1c02b77",
   "metadata": {},
   "outputs": [],
   "source": [
    "import sys \n",
    "sys.path.append(r'/efs/CWA/scripts_aridity')\n",
    "\n",
    "from watertools_iwmi import Functions as fn"
   ]
  },
  {
   "cell_type": "code",
   "execution_count": 2,
   "id": "da315b99-a8c6-4c18-9b19-7865d33891d8",
   "metadata": {},
   "outputs": [],
   "source": [
    "npp = r'/home/iwmi-wa/tmp_1tb/MOD17_NPP/'\n",
    "gpp = r'/home/iwmi-wa/tmp_1tb/MOD17_GPP/'\n",
    "ndm = r'/home/iwmi-wa/tmp_1tb/MOD17_NDM/'\n",
    "start  = '2003-01-01'\n",
    "end = '2021-12-31'"
   ]
  },
  {
   "cell_type": "code",
   "execution_count": 12,
   "id": "3ceba07a-4017-48ad-8735-70c4eab0d854",
   "metadata": {},
   "outputs": [
    {
     "ename": "ModuleNotFoundError",
     "evalue": "No module named 'skimage'",
     "output_type": "error",
     "traceback": [
      "\u001b[0;31m---------------------------------------------------------------------------\u001b[0m",
      "\u001b[0;31mModuleNotFoundError\u001b[0m                       Traceback (most recent call last)",
      "\u001b[0;32m/tmp/ipykernel_24585/500824870.py\u001b[0m in \u001b[0;36m<module>\u001b[0;34m\u001b[0m\n\u001b[0;32m----> 1\u001b[0;31m \u001b[0mfn\u001b[0m\u001b[0;34m.\u001b[0m\u001b[0mCalc_NDM\u001b[0m\u001b[0;34m.\u001b[0m\u001b[0mCalc_NDM\u001b[0m\u001b[0;34m.\u001b[0m\u001b[0mNPP_GPP_Based\u001b[0m\u001b[0;34m(\u001b[0m\u001b[0mndm\u001b[0m\u001b[0;34m,\u001b[0m\u001b[0mgpp\u001b[0m\u001b[0;34m,\u001b[0m\u001b[0mnpp\u001b[0m\u001b[0;34m,\u001b[0m\u001b[0mstart\u001b[0m\u001b[0;34m,\u001b[0m\u001b[0mend\u001b[0m\u001b[0;34m)\u001b[0m\u001b[0;34m\u001b[0m\u001b[0;34m\u001b[0m\u001b[0m\n\u001b[0m",
      "\u001b[0;32m/efs/CWA/scripts_aridity/watertools_iwmi/Functions/Calc_NDM/Calc_NDM.py\u001b[0m in \u001b[0;36mNPP_GPP_Based\u001b[0;34m(Dir_Basin, Data_Path_GPP, Data_Path_NPP, Startdate, Enddate)\u001b[0m\n\u001b[1;32m    121\u001b[0m         \u001b[0;31m# Check if size is the same of NPP and GPP otherwise resize\u001b[0m\u001b[0;34m\u001b[0m\u001b[0;34m\u001b[0m\u001b[0;34m\u001b[0m\u001b[0m\n\u001b[1;32m    122\u001b[0m         \u001b[0;32mif\u001b[0m \u001b[0;32mnot\u001b[0m \u001b[0;34m(\u001b[0m\u001b[0msize_X_NPP\u001b[0m \u001b[0;32mis\u001b[0m \u001b[0msize_X\u001b[0m \u001b[0;32mor\u001b[0m \u001b[0msize_Y_NPP\u001b[0m \u001b[0;32mis\u001b[0m \u001b[0msize_Y\u001b[0m\u001b[0;34m)\u001b[0m\u001b[0;34m:\u001b[0m\u001b[0;34m\u001b[0m\u001b[0;34m\u001b[0m\u001b[0m\n\u001b[0;32m--> 123\u001b[0;31m             \u001b[0mYearly_NPP\u001b[0m \u001b[0;34m=\u001b[0m \u001b[0mRC\u001b[0m\u001b[0;34m.\u001b[0m\u001b[0mresize_array_example\u001b[0m\u001b[0;34m(\u001b[0m\u001b[0mYearly_NPP\u001b[0m\u001b[0;34m,\u001b[0m \u001b[0mYearly_GPP\u001b[0m\u001b[0;34m)\u001b[0m\u001b[0;34m\u001b[0m\u001b[0;34m\u001b[0m\u001b[0m\n\u001b[0m\u001b[1;32m    124\u001b[0m \u001b[0;34m\u001b[0m\u001b[0m\n\u001b[1;32m    125\u001b[0m \u001b[0;34m\u001b[0m\u001b[0m\n",
      "\u001b[0;32m/efs/CWA/scripts_aridity/watertools_iwmi/General/raster_conversions.py\u001b[0m in \u001b[0;36mresize_array_example\u001b[0;34m(Array_in, Array_example, method)\u001b[0m\n\u001b[1;32m    885\u001b[0m             \u001b[0mArray_out\u001b[0m\u001b[0;34m=\u001b[0m \u001b[0mmisc\u001b[0m\u001b[0;34m.\u001b[0m\u001b[0mimresize\u001b[0m\u001b[0;34m(\u001b[0m\u001b[0mnp\u001b[0m\u001b[0;34m.\u001b[0m\u001b[0mfloat_\u001b[0m\u001b[0;34m(\u001b[0m\u001b[0mArray_in\u001b[0m\u001b[0;34m)\u001b[0m\u001b[0;34m,\u001b[0m \u001b[0msize\u001b[0m\u001b[0;34m,\u001b[0m \u001b[0minterp\u001b[0m\u001b[0;34m=\u001b[0m\u001b[0minterpolation_method\u001b[0m\u001b[0;34m,\u001b[0m \u001b[0mmode\u001b[0m\u001b[0;34m=\u001b[0m\u001b[0;34m'F'\u001b[0m\u001b[0;34m)\u001b[0m\u001b[0;34m\u001b[0m\u001b[0;34m\u001b[0m\u001b[0m\n\u001b[1;32m    886\u001b[0m         \u001b[0;32mif\u001b[0m \u001b[0msys\u001b[0m\u001b[0;34m.\u001b[0m\u001b[0mversion_info\u001b[0m\u001b[0;34m[\u001b[0m\u001b[0;36m0\u001b[0m\u001b[0;34m]\u001b[0m \u001b[0;34m==\u001b[0m \u001b[0;36m3\u001b[0m\u001b[0;34m:\u001b[0m\u001b[0;34m\u001b[0m\u001b[0;34m\u001b[0m\u001b[0m\n\u001b[0;32m--> 887\u001b[0;31m             \u001b[0;32mimport\u001b[0m \u001b[0mskimage\u001b[0m\u001b[0;34m.\u001b[0m\u001b[0mtransform\u001b[0m \u001b[0;32mas\u001b[0m \u001b[0mtransform\u001b[0m\u001b[0;34m\u001b[0m\u001b[0;34m\u001b[0m\u001b[0m\n\u001b[0m\u001b[1;32m    888\u001b[0m             \u001b[0mArray_out\u001b[0m\u001b[0;34m=\u001b[0m \u001b[0mtransform\u001b[0m\u001b[0;34m.\u001b[0m\u001b[0mresize\u001b[0m\u001b[0;34m(\u001b[0m\u001b[0mnp\u001b[0m\u001b[0;34m.\u001b[0m\u001b[0mfloat_\u001b[0m\u001b[0;34m(\u001b[0m\u001b[0mArray_in\u001b[0m\u001b[0;34m)\u001b[0m\u001b[0;34m,\u001b[0m \u001b[0msize\u001b[0m\u001b[0;34m,\u001b[0m \u001b[0morder\u001b[0m\u001b[0;34m=\u001b[0m\u001b[0minterpolation_number\u001b[0m\u001b[0;34m)\u001b[0m\u001b[0;34m\u001b[0m\u001b[0;34m\u001b[0m\u001b[0m\n\u001b[1;32m    889\u001b[0m \u001b[0;34m\u001b[0m\u001b[0m\n",
      "\u001b[0;31mModuleNotFoundError\u001b[0m: No module named 'skimage'"
     ]
    }
   ],
   "source": [
    "fn.Calc_NDM.Calc_NDM.NPP_GPP_Based(ndm,gpp,npp,start,end)"
   ]
  },
  {
   "cell_type": "code",
   "execution_count": 10,
   "id": "627803d1-37fe-4fd8-9515-238f3c9ffb92",
   "metadata": {},
   "outputs": [
    {
     "name": "stdout",
     "output_type": "stream",
     "text": [
      "Requirement already satisfied: scikit-image in /home/iwmi-wa/anaconda3/lib/python3.8/site-packages (0.17.2)\n",
      "Requirement already satisfied: numpy>=1.15.1 in /home/iwmi-wa/anaconda3/lib/python3.8/site-packages (from scikit-image) (1.19.2)\n",
      "Requirement already satisfied: scipy>=1.0.1 in /home/iwmi-wa/.local/lib/python3.8/site-packages (from scikit-image) (1.10.1)\n",
      "Requirement already satisfied: matplotlib!=3.0.0,>=2.0.0 in /home/iwmi-wa/anaconda3/lib/python3.8/site-packages (from scikit-image) (3.3.2)\n",
      "Requirement already satisfied: networkx>=2.0 in /home/iwmi-wa/.local/lib/python3.8/site-packages (from scikit-image) (3.1)\n",
      "Requirement already satisfied: pillow!=7.1.0,!=7.1.1,>=4.3.0 in /home/iwmi-wa/anaconda3/lib/python3.8/site-packages (from scikit-image) (8.0.1)\n",
      "Requirement already satisfied: imageio>=2.3.0 in /home/iwmi-wa/anaconda3/lib/python3.8/site-packages (from scikit-image) (2.9.0)\n",
      "Requirement already satisfied: tifffile>=2019.7.26 in /home/iwmi-wa/anaconda3/lib/python3.8/site-packages (from scikit-image) (2020.10.1)\n",
      "Requirement already satisfied: PyWavelets>=1.1.1 in /home/iwmi-wa/anaconda3/lib/python3.8/site-packages (from scikit-image) (1.1.1)\n",
      "Requirement already satisfied: cycler>=0.10 in /home/iwmi-wa/anaconda3/lib/python3.8/site-packages (from matplotlib!=3.0.0,>=2.0.0->scikit-image) (0.10.0)\n",
      "Requirement already satisfied: certifi>=2020.06.20 in /home/iwmi-wa/anaconda3/lib/python3.8/site-packages (from matplotlib!=3.0.0,>=2.0.0->scikit-image) (2020.6.20)\n",
      "Requirement already satisfied: python-dateutil>=2.1 in /home/iwmi-wa/anaconda3/lib/python3.8/site-packages (from matplotlib!=3.0.0,>=2.0.0->scikit-image) (2.8.1)\n",
      "Requirement already satisfied: kiwisolver>=1.0.1 in /home/iwmi-wa/anaconda3/lib/python3.8/site-packages (from matplotlib!=3.0.0,>=2.0.0->scikit-image) (1.3.0)\n",
      "Requirement already satisfied: pyparsing!=2.0.4,!=2.1.2,!=2.1.6,>=2.0.3 in /home/iwmi-wa/anaconda3/lib/python3.8/site-packages (from matplotlib!=3.0.0,>=2.0.0->scikit-image) (2.4.7)\n",
      "Requirement already satisfied: six in /home/iwmi-wa/anaconda3/lib/python3.8/site-packages (from cycler>=0.10->matplotlib!=3.0.0,>=2.0.0->scikit-image) (1.15.0)\n"
     ]
    }
   ],
   "source": [
    "!pip install scikit-image"
   ]
  },
  {
   "cell_type": "code",
   "execution_count": 6,
   "id": "c2545ece-e06f-4bc8-8541-885fd36e7e58",
   "metadata": {},
   "outputs": [
    {
     "name": "stderr",
     "output_type": "stream",
     "text": [
      "/home/iwmi-wa/anaconda3/envs/cwa_env/lib/python3.7/site-packages/ipykernel_launcher.py:52: RuntimeWarning: invalid value encountered in true_divide\n"
     ]
    },
    {
     "name": "stdout",
     "output_type": "stream",
     "text": [
      "Monthly data with yearly addition has been created in the output folder.\n"
     ]
    }
   ],
   "source": [
    "import os\n",
    "import re\n",
    "import rasterio\n",
    "\n",
    "# Path to the folder containing the monthly TIFF files\n",
    "monthly_folder = r'/home/iwmi-wa/tmp_1tb/MOD17_GPP_c_rs/'\n",
    "\n",
    "# Path to the folder containing the yearly TIFF files\n",
    "yearly_folder = r'/home/iwmi-wa/tmp_1tb/MOD17_NPP_c_rs/'\n",
    "\n",
    "# Path to the folder containing the yearly TIFF files\n",
    "yearly_folder2 = r'/home/iwmi-wa/tmp_1tb/MOD17_GPP_yr/'\n",
    "\n",
    "# Output folder for the new monthly data\n",
    "output_folder = r'/home/iwmi-wa/tmp_1tb/MOD17_NDM'\n",
    "\n",
    "# Create the output folder if it doesn't exist\n",
    "if not os.path.exists(output_folder):\n",
    "    os.makedirs(output_folder)\n",
    "\n",
    "# List all TIFF files in the monthly folder\n",
    "monthly_tif_files = [file for file in os.listdir(monthly_folder) if file.endswith('.tif')]\n",
    "\n",
    "# Loop through the monthly TIFF files\n",
    "for monthly_file in monthly_tif_files:\n",
    "    monthly_file_path = os.path.join(monthly_folder, monthly_file)\n",
    "    \n",
    "    # Extract the date from the file name using a regular expression\n",
    "    date_match = re.search(r'\\d{4}\\.\\d{2}\\.\\d{2}', monthly_file)\n",
    "    if date_match:\n",
    "        date = date_match.group(0)\n",
    "        output_file = f'NDM_{date}.tif'\n",
    "        output_file_path = os.path.join(output_folder, output_file)\n",
    "        \n",
    "        # Open the monthly data file\n",
    "        with rasterio.open(monthly_file_path) as monthly_src:\n",
    "            # Open the corresponding yearly data file\n",
    "            yearly_file_path = os.path.join(yearly_folder, f'MOD17_Npp_{date[:4]}.01.01.tif')\n",
    "            # Open the corresponding yearly data file\n",
    "            yearly_file_path2 = os.path.join(yearly_folder2, f'GPP_{date[:4]}.01.01.tif')\n",
    "            \n",
    "            with rasterio.open(yearly_file_path) as yearly_src:\n",
    "                with rasterio.open(yearly_file_path2) as yearly_src2:\n",
    "                \n",
    "                    # Read the data from both monthly and yearly files\n",
    "                    monthly_GPP = monthly_src.read(1)\n",
    "                    Yearly_NPP = yearly_src.read(1)\n",
    "                    Yearly_GPP = yearly_src2.read(1)\n",
    "\n",
    "                    # Add the monthly and yearly data\n",
    "    #                 Monthly_NDM = Yearly_NPP * monthly_GPP / Yearly_GPP * (30./12.) *10000\n",
    "                    Monthly_NDM = Yearly_NPP * monthly_GPP / Yearly_GPP * (30./12.)\n",
    "\n",
    "                    # Update the metadata (assumes both files have the same metadata)\n",
    "                    profile = monthly_src.profile\n",
    "\n",
    "                    # Write the result to a new TIFF file in the output folder\n",
    "                    with rasterio.open(output_file_path, 'w', **profile) as dst:\n",
    "                        dst.write(Monthly_NDM, 1)\n",
    "    \n",
    "print(\"Monthly data with yearly addition has been created in the output folder.\")\n"
   ]
  },
  {
   "cell_type": "code",
   "execution_count": null,
   "id": "26dbf02e-715d-4821-8960-b0be1f59e289",
   "metadata": {},
   "outputs": [],
   "source": []
  }
 ],
 "metadata": {
  "kernelspec": {
   "display_name": "Python 3 (ipykernel)",
   "language": "python",
   "name": "python3"
  },
  "language_info": {
   "codemirror_mode": {
    "name": "ipython",
    "version": 3
   },
   "file_extension": ".py",
   "mimetype": "text/x-python",
   "name": "python",
   "nbconvert_exporter": "python",
   "pygments_lexer": "ipython3",
   "version": "3.7.7"
  }
 },
 "nbformat": 4,
 "nbformat_minor": 5
}
